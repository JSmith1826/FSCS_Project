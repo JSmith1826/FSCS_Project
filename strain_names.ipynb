{
 "cells": [
  {
   "cell_type": "code",
   "execution_count": 1,
   "metadata": {},
   "outputs": [],
   "source": [
    "#### Dependencies\n",
    "\n",
    "import os\n",
    "import numpy as np\n",
    "import pandas as pd\n",
    "import matplotlib.pyplot as plt\n",
    "import seaborn as sns\n",
    "import scipy.stats as stats\n"
   ]
  },
  {
   "cell_type": "code",
   "execution_count": 12,
   "metadata": {},
   "outputs": [
    {
     "name": "stdout",
     "output_type": "stream",
     "text": [
      "['data/processed/april_2017.csv', 'data/processed/data_load_clean.json', 'data/processed/jan_2018.csv', 'data/processed/may_2018.csv', 'data/processed/oct_2017.csv', 'data/processed/sept_2018.csv']\n"
     ]
    }
   ],
   "source": [
    "# Create a list of paths to our raw data files\n",
    "\n",
    "DATA_DIR = 'data/processed/'\n",
    "\n",
    "### List of files to be read\n",
    "\n",
    "files = os.listdir(DATA_DIR)\n",
    "#print(files)\n",
    "\n",
    "full_file_list = []\n",
    "\n",
    "for file in files:\n",
    "    full_file_list.append(DATA_DIR + file)\n",
    "print(full_file_list)\n"
   ]
  },
  {
   "cell_type": "code",
   "execution_count": 15,
   "metadata": {},
   "outputs": [],
   "source": [
    "### Read The CSVs as dataframes\n",
    "\n",
    "jan_2018 = pd.read_csv('data/processed/jan_2018.csv')\n",
    "april_2017 = pd.read_csv('data/processed/april_2017.csv')\n",
    "may_2018 = pd.read_csv('data/processed/may_2018.csv')\n",
    "oct_2017 = pd.read_csv('data/processed/oct_2017.csv')\n",
    "sept_2018 = pd.read_csv('data/processed/sept_2018.csv')"
   ]
  },
  {
   "cell_type": "code",
   "execution_count": 31,
   "metadata": {},
   "outputs": [],
   "source": [
    "### Dirty Merge to create a single dataframe\n",
    "### Going to use to create list of all strain names\n",
    "\n"
   ]
  },
  {
   "cell_type": "code",
   "execution_count": 29,
   "metadata": {},
   "outputs": [
    {
     "data": {
      "text/plain": [
       "'Super Secret Weapon '"
      ]
     },
     "execution_count": 29,
     "metadata": {},
     "output_type": "execute_result"
    }
   ],
   "source": [
    "# Lambda function to parse dataframe column names\n",
    "# We need to parse the names in order to group them and average then so we can flatten the matching variables into one column\n",
    "\n",
    "## Taken from Bootcamp food project\n",
    "\n",
    "s = 'Super Secret Weapon '\n",
    "result = ''.join(i for i in s if not i.isdigit())\n",
    "result"
   ]
  },
  {
   "cell_type": "code",
   "execution_count": 39,
   "metadata": {},
   "outputs": [
    {
     "data": {
      "text/plain": [
       "[\"['Strawberry Kush' 'LA Chocolate' 'Sour Power' 'Gorilla Glue #4'\\n 'Sp Candy Land' 'Lemon Puff' 'NY City Diesel']['Lemon Puff' 'Grape Breath' 'NYC D' 'Lemon Butter' 'Double Budder'\\n 'Nutter Butter' 'Nutter butter' 'Afgan' 'Sophie' 'PBB 3' 'Outdoor'\\n 'Special CandyLand' 'PBB 1' '616' 'Foam Fire' 'Code Blue'\\n 'Gorilla Glue 4' 'Lucky Charms' 'Cookie monster' 'Bug apple butter'\\n 'Grape B - down' 'Double butter 3' 'Double butter 2' 'Double butter 5'\\n 'Double butter 1' 'Butter Face' 'Ghee butter 2' 'Ghee butter 1'\\n 'Meat the Cookies 5' 'Meat the cookies 1' 'Lemon butter 4'\\n 'Meat the cookies 2' 'Lemon butter 3' 'Lemon butter 2'\\n 'Big apple butter 2' 'Filet mignon' 'Sophie breath' 'Meat the cookies 3'\\n 'Lemon butter 1' 'Meat the cookies 4' 'Blackberry' 'Sun tonic'\\n 'Tonic of life' 'Dark helmet' 'Sunshine Tonic' 'Tonic of Life']['Tang Breath' 'Super Secret Weapon' 'Electric Lemon G' 'Tang Breathe #2'\\n 'ButterFace #4 (Matt)' 'ButterFace #1 (Matt)' 'Abazaba #1 FC'\\n 'Lemon Puff' 'Truffle Butter #1 FC' 'ButterFace #3 (Matt)' 'NYC Diesel'\\n 'Abazaba #2 ' 'Special Candy Land' 'ButterFace #2 FC' 'ButterFace #1 FC'\\n 'Wizard Breath #1' '616' 'Tangie' 'Peanut Butter Breath #1'\\n 'Gorilla Butter #3 ( Matt)' 'Nutter Butter' 'Truffle Butter #1 (Matt)'\\n 'Blackberry Kush' 'Gorilla Glue #4' 'Truffle Butter #2 FC' 'NYC-D'\\n 'Foam Fire' 'GMO' 'Foam Fire *(Assumed)' 'Afgan Kush' 'Gorilla Glue#4'\\n 'Wizard Breath #2' 'Abazaba #3' 'ButterFace #3 (FC house)'\\n 'Truffle Butter #3' 'Big Apple Butter #1' 'Gorilla Butter #2 (Matt)'\\n 'Big Apple #2 (Matt)' 'ButterFace #5 (Matt)' 'Filet Mignon'\\n 'ButterFace #2 (Matt)' 'Headband' 'Lemon Butter #6' 'Alien Rock Candy'\\n 'Gorilla Butter #1 (Matt)' 'Lemon Butter #7']['Ancient Whisper' 'Lemon Pie' 'Blackberry Kush' 'GMO' 'Meat the Cookies'\\n 'Lemon Puff' 'Watermelon ZDP #3' 'Filet Migon' '616 / GG4 ?'\\n 'Watermelon ZDP #1' 'Wizard Breath' 'NYCD' 'Meat Breath' 'Lemon Pie #1'\\n 'Tang Breath' 'Gorilla Butter' 'Watermelon ZDP #2' 'Peanut Butter Breath'\\n 'Electric Lemon G' 'Lemon Pie #3' 'Special CandyLand' 'Truffle Butter']['Lemon Pie (1)' 'Lemon Puff' 'Blackberry Kush' 'Gorilla Butter'\\n 'Filet mignon' 'GMO' 'Meat the cookies' 'Afgan Kush' 'Meat Breath'\\n 'Lemon Butter' 'Big Apple Butter' 'Electric Lemon G'\\n 'Peanut Butter Breath #1' 'ButterFace' 'Ancient Whisper'\\n 'Gorilla Butter #2' 'Meat the Cookies #2' 'GMO #2' 'Meat The Cookies #3'\\n 'Peanut Butter Breath #2' 'Watermellon ZDP' 'Lemon Pie #2'\\n 'Gorilla Butter #3' 'GMO #3' 'GMO #4' 'Electric Lemon G #2' 'GMO #5'\\n 'Lemon Pie #3']\"]"
      ]
     },
     "execution_count": 39,
     "metadata": {},
     "output_type": "execute_result"
    }
   ],
   "source": [
    "#### Create a list of every string from the Name column of all 5 dataframes\n",
    "\n",
    "# df_list = [jan_2018, april_2017, may_2018, oct_2017, sept_2018]\n",
    "\n",
    "# ### Create a list of every string from the Name column of all 5 dataframes\n",
    "\n",
    "# for i in df_list:\n",
    "\n",
    "\n",
    "all_names = [str(april_2017.Name.unique()) + str(oct_2017.Name.unique()) + str(jan_2018.Name.unique()) + str(may_2018.Name.unique()) + str(sept_2018.Name.unique())]\n",
    "\n",
    "all_names\n"
   ]
  },
  {
   "cell_type": "code",
   "execution_count": 40,
   "metadata": {},
   "outputs": [],
   "source": [
    "# Create a dictionary of the column names \n",
    "# Top level of the dictionary is the column name we want to output\n",
    "# next level is a list of the column names we want to average\n",
    "# For many of our features we have the same measure from muptiple years\n",
    "# This operation will average the values from the multiple years\n",
    "\n",
    "strain_dict={}\n",
    "for each in all_names:\n",
    "    s=each\n",
    "    result=''.join(i for i in s if not i.isdigit())\n",
    "    if result in strain_dict: \n",
    "        strain_dict[result].append(each)\n",
    "    else: \n",
    "        strain_dict[result]=[each]"
   ]
  },
  {
   "cell_type": "code",
   "execution_count": 41,
   "metadata": {},
   "outputs": [
    {
     "data": {
      "text/plain": [
       "{\"['Strawberry Kush' 'LA Chocolate' 'Sour Power' 'Gorilla Glue #'\\n 'Sp Candy Land' 'Lemon Puff' 'NY City Diesel']['Lemon Puff' 'Grape Breath' 'NYC D' 'Lemon Butter' 'Double Budder'\\n 'Nutter Butter' 'Nutter butter' 'Afgan' 'Sophie' 'PBB ' 'Outdoor'\\n 'Special CandyLand' 'PBB ' '' 'Foam Fire' 'Code Blue'\\n 'Gorilla Glue ' 'Lucky Charms' 'Cookie monster' 'Bug apple butter'\\n 'Grape B - down' 'Double butter ' 'Double butter ' 'Double butter '\\n 'Double butter ' 'Butter Face' 'Ghee butter ' 'Ghee butter '\\n 'Meat the Cookies ' 'Meat the cookies ' 'Lemon butter '\\n 'Meat the cookies ' 'Lemon butter ' 'Lemon butter '\\n 'Big apple butter ' 'Filet mignon' 'Sophie breath' 'Meat the cookies '\\n 'Lemon butter ' 'Meat the cookies ' 'Blackberry' 'Sun tonic'\\n 'Tonic of life' 'Dark helmet' 'Sunshine Tonic' 'Tonic of Life']['Tang Breath' 'Super Secret Weapon' 'Electric Lemon G' 'Tang Breathe #'\\n 'ButterFace # (Matt)' 'ButterFace # (Matt)' 'Abazaba # FC'\\n 'Lemon Puff' 'Truffle Butter # FC' 'ButterFace # (Matt)' 'NYC Diesel'\\n 'Abazaba # ' 'Special Candy Land' 'ButterFace # FC' 'ButterFace # FC'\\n 'Wizard Breath #' '' 'Tangie' 'Peanut Butter Breath #'\\n 'Gorilla Butter # ( Matt)' 'Nutter Butter' 'Truffle Butter # (Matt)'\\n 'Blackberry Kush' 'Gorilla Glue #' 'Truffle Butter # FC' 'NYC-D'\\n 'Foam Fire' 'GMO' 'Foam Fire *(Assumed)' 'Afgan Kush' 'Gorilla Glue#'\\n 'Wizard Breath #' 'Abazaba #' 'ButterFace # (FC house)'\\n 'Truffle Butter #' 'Big Apple Butter #' 'Gorilla Butter # (Matt)'\\n 'Big Apple # (Matt)' 'ButterFace # (Matt)' 'Filet Mignon'\\n 'ButterFace # (Matt)' 'Headband' 'Lemon Butter #' 'Alien Rock Candy'\\n 'Gorilla Butter # (Matt)' 'Lemon Butter #']['Ancient Whisper' 'Lemon Pie' 'Blackberry Kush' 'GMO' 'Meat the Cookies'\\n 'Lemon Puff' 'Watermelon ZDP #' 'Filet Migon' ' / GG ?'\\n 'Watermelon ZDP #' 'Wizard Breath' 'NYCD' 'Meat Breath' 'Lemon Pie #'\\n 'Tang Breath' 'Gorilla Butter' 'Watermelon ZDP #' 'Peanut Butter Breath'\\n 'Electric Lemon G' 'Lemon Pie #' 'Special CandyLand' 'Truffle Butter']['Lemon Pie ()' 'Lemon Puff' 'Blackberry Kush' 'Gorilla Butter'\\n 'Filet mignon' 'GMO' 'Meat the cookies' 'Afgan Kush' 'Meat Breath'\\n 'Lemon Butter' 'Big Apple Butter' 'Electric Lemon G'\\n 'Peanut Butter Breath #' 'ButterFace' 'Ancient Whisper'\\n 'Gorilla Butter #' 'Meat the Cookies #' 'GMO #' 'Meat The Cookies #'\\n 'Peanut Butter Breath #' 'Watermellon ZDP' 'Lemon Pie #'\\n 'Gorilla Butter #' 'GMO #' 'GMO #' 'Electric Lemon G #' 'GMO #'\\n 'Lemon Pie #']\": [\"['Strawberry Kush' 'LA Chocolate' 'Sour Power' 'Gorilla Glue #4'\\n 'Sp Candy Land' 'Lemon Puff' 'NY City Diesel']['Lemon Puff' 'Grape Breath' 'NYC D' 'Lemon Butter' 'Double Budder'\\n 'Nutter Butter' 'Nutter butter' 'Afgan' 'Sophie' 'PBB 3' 'Outdoor'\\n 'Special CandyLand' 'PBB 1' '616' 'Foam Fire' 'Code Blue'\\n 'Gorilla Glue 4' 'Lucky Charms' 'Cookie monster' 'Bug apple butter'\\n 'Grape B - down' 'Double butter 3' 'Double butter 2' 'Double butter 5'\\n 'Double butter 1' 'Butter Face' 'Ghee butter 2' 'Ghee butter 1'\\n 'Meat the Cookies 5' 'Meat the cookies 1' 'Lemon butter 4'\\n 'Meat the cookies 2' 'Lemon butter 3' 'Lemon butter 2'\\n 'Big apple butter 2' 'Filet mignon' 'Sophie breath' 'Meat the cookies 3'\\n 'Lemon butter 1' 'Meat the cookies 4' 'Blackberry' 'Sun tonic'\\n 'Tonic of life' 'Dark helmet' 'Sunshine Tonic' 'Tonic of Life']['Tang Breath' 'Super Secret Weapon' 'Electric Lemon G' 'Tang Breathe #2'\\n 'ButterFace #4 (Matt)' 'ButterFace #1 (Matt)' 'Abazaba #1 FC'\\n 'Lemon Puff' 'Truffle Butter #1 FC' 'ButterFace #3 (Matt)' 'NYC Diesel'\\n 'Abazaba #2 ' 'Special Candy Land' 'ButterFace #2 FC' 'ButterFace #1 FC'\\n 'Wizard Breath #1' '616' 'Tangie' 'Peanut Butter Breath #1'\\n 'Gorilla Butter #3 ( Matt)' 'Nutter Butter' 'Truffle Butter #1 (Matt)'\\n 'Blackberry Kush' 'Gorilla Glue #4' 'Truffle Butter #2 FC' 'NYC-D'\\n 'Foam Fire' 'GMO' 'Foam Fire *(Assumed)' 'Afgan Kush' 'Gorilla Glue#4'\\n 'Wizard Breath #2' 'Abazaba #3' 'ButterFace #3 (FC house)'\\n 'Truffle Butter #3' 'Big Apple Butter #1' 'Gorilla Butter #2 (Matt)'\\n 'Big Apple #2 (Matt)' 'ButterFace #5 (Matt)' 'Filet Mignon'\\n 'ButterFace #2 (Matt)' 'Headband' 'Lemon Butter #6' 'Alien Rock Candy'\\n 'Gorilla Butter #1 (Matt)' 'Lemon Butter #7']['Ancient Whisper' 'Lemon Pie' 'Blackberry Kush' 'GMO' 'Meat the Cookies'\\n 'Lemon Puff' 'Watermelon ZDP #3' 'Filet Migon' '616 / GG4 ?'\\n 'Watermelon ZDP #1' 'Wizard Breath' 'NYCD' 'Meat Breath' 'Lemon Pie #1'\\n 'Tang Breath' 'Gorilla Butter' 'Watermelon ZDP #2' 'Peanut Butter Breath'\\n 'Electric Lemon G' 'Lemon Pie #3' 'Special CandyLand' 'Truffle Butter']['Lemon Pie (1)' 'Lemon Puff' 'Blackberry Kush' 'Gorilla Butter'\\n 'Filet mignon' 'GMO' 'Meat the cookies' 'Afgan Kush' 'Meat Breath'\\n 'Lemon Butter' 'Big Apple Butter' 'Electric Lemon G'\\n 'Peanut Butter Breath #1' 'ButterFace' 'Ancient Whisper'\\n 'Gorilla Butter #2' 'Meat the Cookies #2' 'GMO #2' 'Meat The Cookies #3'\\n 'Peanut Butter Breath #2' 'Watermellon ZDP' 'Lemon Pie #2'\\n 'Gorilla Butter #3' 'GMO #3' 'GMO #4' 'Electric Lemon G #2' 'GMO #5'\\n 'Lemon Pie #3']\"]}"
      ]
     },
     "execution_count": 41,
     "metadata": {},
     "output_type": "execute_result"
    }
   ],
   "source": [
    "strain_dict"
   ]
  }
 ],
 "metadata": {
  "kernelspec": {
   "display_name": "mlenv",
   "language": "python",
   "name": "mlenv"
  },
  "language_info": {
   "codemirror_mode": {
    "name": "ipython",
    "version": 3
   },
   "file_extension": ".py",
   "mimetype": "text/x-python",
   "name": "python",
   "nbconvert_exporter": "python",
   "pygments_lexer": "ipython3",
   "version": "3.9.13"
  },
  "orig_nbformat": 4,
  "vscode": {
   "interpreter": {
    "hash": "cc9c5b9d7e73d0a6482692a6f05d05c6b6079306fc54c435bdf6ad9191c91486"
   }
  }
 },
 "nbformat": 4,
 "nbformat_minor": 2
}
