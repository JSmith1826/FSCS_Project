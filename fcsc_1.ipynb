{
 "cells": [
  {
   "cell_type": "code",
   "execution_count": 2,
   "metadata": {},
   "outputs": [],
   "source": [
    "#### Dependencies\n",
    "\n",
    "import os\n",
    "import numpy as np\n",
    "import pandas as pd\n",
    "import matplotlib.pyplot as plt\n",
    "import seaborn as sns\n",
    "import scipy.stats as stats\n"
   ]
  },
  {
   "cell_type": "code",
   "execution_count": 10,
   "metadata": {},
   "outputs": [
    {
     "name": "stdout",
     "output_type": "stream",
     "text": [
      "['data/raw/April_2017.xlsx', 'data/raw/Jan_2018.xlsx', 'data/raw/May_2018.xlsx', 'data/raw/May_2018_2.xlsx', 'data/raw/Oct_2017.xlsx', 'data/raw/plant_codes_Jan_2018.xlsx', 'data/raw/RJ Trim Oct 17 (1).xlsx', 'data/raw/Sept_2018.xlsx']\n"
     ]
    }
   ],
   "source": [
    "# Create a list of paths to our raw data files\n",
    "\n",
    "DATA_DIR = 'data/raw/'\n",
    "\n",
    "### List of files to be read\n",
    "\n",
    "files = os.listdir(DATA_DIR)\n",
    "#print(files)\n",
    "\n",
    "full_file_list = []\n",
    "\n",
    "for file in files:\n",
    "    full_file_list.append(DATA_DIR + file)\n",
    "print(full_file_list)\n",
    "\n"
   ]
  },
  {
   "cell_type": "code",
   "execution_count": 28,
   "metadata": {},
   "outputs": [],
   "source": [
    "### Read in the data\n",
    "\n",
    "# Creates dataframe from the first sheet of each file in the raw data directory\n",
    "\n",
    "## Returns a list of the dataframes\n",
    "dfs = [pd.read_excel(f) for f in full_file_list if os.path.isfile(f)]\n",
    "\n",
    "\n",
    "\n",
    "### Seperate the list into idividual dataframes\n",
    "\n",
    "\n",
    "may_2017 = dfs[0]\n",
    "jan_2018 = dfs[1]\n",
    "may_2018 = dfs[2]\n",
    "oct_2017 = dfs[4]\n",
    "plant_id = dfs[5]\n",
    "sept_2018 = dfs[7]\n",
    "\n",
    "\n",
    "\n"
   ]
  },
  {
   "cell_type": "code",
   "execution_count": null,
   "metadata": {},
   "outputs": [],
   "source": []
  }
 ],
 "metadata": {
  "kernelspec": {
   "display_name": "Python 3.9.13 ('mlenv')",
   "language": "python",
   "name": "python3"
  },
  "language_info": {
   "codemirror_mode": {
    "name": "ipython",
    "version": 3
   },
   "file_extension": ".py",
   "mimetype": "text/x-python",
   "name": "python",
   "nbconvert_exporter": "python",
   "pygments_lexer": "ipython3",
   "version": "3.9.13"
  },
  "orig_nbformat": 4,
  "vscode": {
   "interpreter": {
    "hash": "16da5ebd74780a3e742c70b3fe64a587568cb88d914c1ab81d04094053f67c4e"
   }
  }
 },
 "nbformat": 4,
 "nbformat_minor": 2
}
