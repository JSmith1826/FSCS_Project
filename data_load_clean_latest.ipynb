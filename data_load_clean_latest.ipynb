{
 "cells": [
  {
   "cell_type": "code",
   "execution_count": 2,
   "metadata": {},
   "outputs": [],
   "source": [
    "# Dependencies\n",
    "import os\n",
    "import pandas as pd\n",
    "import numpy as np\n",
    "import seaborn as sns"
   ]
  },
  {
   "cell_type": "code",
<<<<<<< HEAD
   "execution_count": 3,
=======
   "execution_count": null,
   "metadata": {},
   "outputs": [],
   "source": [
    "#### CODE FROM FOOD PROJECT TO USE LATER TO COMBINE STRAIN NAMES\n",
    "\n",
    "\n",
    "# Create a dictionary of the column names \n",
    "# Top level of the dictionary is the column name we want to output\n",
    "# next level is a list of the column names we want to average\n",
    "# For many of our features we have the same measure from muptiple years\n",
    "# This operation will average the values from the multiple years\n",
    "\n",
    "column_dict={}\n",
    "for each_column in df.columns: \n",
    "    s=each_column\n",
    "    result=''.join(i for i in s if not i.isdigit())\n",
    "    if result in column_dict: \n",
    "        column_dict[result].append(each_column)\n",
    "    else: \n",
    "        column_dict[result]=[each_column]"
   ]
  },
  {
   "cell_type": "code",
   "execution_count": null,
   "metadata": {},
   "outputs": [],
   "source": []
  },
  {
   "cell_type": "code",
   "execution_count": 2,
>>>>>>> f32f75b4efa7b9987b49b1daa01a94adfbbe8f38
   "metadata": {},
   "outputs": [
    {
     "name": "stdout",
     "output_type": "stream",
     "text": [
      "['data/raw/April_2017.xlsx', 'data/raw/Jan_2018.xlsx', 'data/raw/jan_2018_test.csv', 'data/raw/May_2018.xlsx', 'data/raw/Oct_2017.xlsx', 'data/raw/plant_codes_Jan_2018.xlsx', 'data/raw/Sept_2018.xlsx']\n"
     ]
    }
   ],
   "source": [
    "# Create a list of paths to our raw data files\n",
    "\n",
    "DATA_DIR = 'data/raw/'\n",
    "\n",
    "### List of files to be read\n",
    "\n",
    "files = os.listdir(DATA_DIR)\n",
    "#print(files)\n",
    "\n",
    "full_file_list = []\n",
    "\n",
    "for file in files:\n",
    "    full_file_list.append(DATA_DIR + file)\n",
    "print(full_file_list)"
   ]
  },
  {
   "cell_type": "code",
   "execution_count": 4,
   "metadata": {},
   "outputs": [
    {
     "name": "stdout",
     "output_type": "stream",
     "text": [
<<<<<<< HEAD
      "                Timestamp Trimmer        Strain  Weight (g)\n",
      "0 2017-10-27 00:51:17.860   House    Lemon Puff        45.0\n",
      "1 2017-10-27 00:51:52.290   House    Lemon Puff        36.0\n",
      "2 2017-10-27 00:52:11.212  Smitty    Lemon Puff        42.0\n",
      "3 2017-10-27 00:55:55.562  Smitty    Lemon Puff        21.5\n",
      "4 2017-10-27 16:07:25.476   House  Grape Breath        14.5\n"
=======
      "                Timestamp Plant ID Trimmer  Weight (g)          Simple_Date  \\\n",
      "0 2018-05-09 00:12:04.163      A02   TPain        43.0  2018-05-09 00:00:00   \n",
      "1 2018-05-09 00:24:46.277      A02    Smit        46.5  2018-05-09 00:00:00   \n",
      "2 2018-05-09 01:21:56.323      A02    Smit        32.5  2018-05-09 00:00:00   \n",
      "3 2018-05-09 18:11:14.537      A02    Smit        65.5  2018-05-09 00:00:00   \n",
      "4 2018-05-09 18:11:26.638      A02    Smit        26.0  2018-05-09 00:00:00   \n",
      "\n",
      "  Unnamed: 5  \n",
      "0        NaT  \n",
      "1        NaT  \n",
      "2        NaT  \n",
      "3        NaT  \n",
      "4        NaT  \n"
>>>>>>> f32f75b4efa7b9987b49b1daa01a94adfbbe8f38
     ]
    }
   ],
   "source": [
    "# Read in our data files\n",
    "## Start with the two simple 2017 files that are a single sheet\n",
    "\n",
    "#df_list = []\n",
    "\n",
    "april_2017 = pd.read_excel(full_file_list[0])\n",
    "oct_2017 = pd.read_excel(full_file_list[3])\n",
    "\n",
    "print(oct_2017.head())"
   ]
  },
  {
   "cell_type": "code",
   "execution_count": 5,
   "metadata": {},
   "outputs": [
    {
     "data": {
      "text/html": [
       "<div>\n",
       "<style scoped>\n",
       "    .dataframe tbody tr th:only-of-type {\n",
       "        vertical-align: middle;\n",
       "    }\n",
       "\n",
       "    .dataframe tbody tr th {\n",
       "        vertical-align: top;\n",
       "    }\n",
       "\n",
       "    .dataframe thead th {\n",
       "        text-align: right;\n",
       "    }\n",
       "</style>\n",
       "<table border=\"1\" class=\"dataframe\">\n",
       "  <thead>\n",
       "    <tr style=\"text-align: right;\">\n",
       "      <th></th>\n",
       "      <th>Timestamp</th>\n",
<<<<<<< HEAD
       "      <th>Trimmer</th>\n",
       "      <th>Strain</th>\n",
       "      <th>Weight (g)</th>\n",
=======
       "      <th>Plant ID</th>\n",
       "      <th>Trimmer</th>\n",
       "      <th>Weight (g)</th>\n",
       "      <th>Simple_Date</th>\n",
       "      <th>Unnamed: 5</th>\n",
>>>>>>> f32f75b4efa7b9987b49b1daa01a94adfbbe8f38
       "    </tr>\n",
       "  </thead>\n",
       "  <tbody>\n",
       "    <tr>\n",
       "      <th>0</th>\n",
<<<<<<< HEAD
       "      <td>2017-10-27 00:51:17.860</td>\n",
       "      <td>House</td>\n",
       "      <td>Lemon Puff</td>\n",
       "      <td>45.0</td>\n",
       "    </tr>\n",
       "    <tr>\n",
       "      <th>1</th>\n",
       "      <td>2017-10-27 00:51:52.290</td>\n",
       "      <td>House</td>\n",
       "      <td>Lemon Puff</td>\n",
       "      <td>36.0</td>\n",
       "    </tr>\n",
       "    <tr>\n",
       "      <th>2</th>\n",
       "      <td>2017-10-27 00:52:11.212</td>\n",
       "      <td>Smitty</td>\n",
       "      <td>Lemon Puff</td>\n",
       "      <td>42.0</td>\n",
       "    </tr>\n",
       "    <tr>\n",
       "      <th>3</th>\n",
       "      <td>2017-10-27 00:55:55.562</td>\n",
       "      <td>Smitty</td>\n",
       "      <td>Lemon Puff</td>\n",
       "      <td>21.5</td>\n",
       "    </tr>\n",
       "    <tr>\n",
       "      <th>4</th>\n",
       "      <td>2017-10-27 16:07:25.476</td>\n",
       "      <td>House</td>\n",
       "      <td>Grape Breath</td>\n",
       "      <td>14.5</td>\n",
=======
       "      <td>2018-05-09 00:12:04.163</td>\n",
       "      <td>A02</td>\n",
       "      <td>TPain</td>\n",
       "      <td>43.0</td>\n",
       "      <td>2018-05-09 00:00:00</td>\n",
       "      <td>NaT</td>\n",
       "    </tr>\n",
       "    <tr>\n",
       "      <th>1</th>\n",
       "      <td>2018-05-09 00:24:46.277</td>\n",
       "      <td>A02</td>\n",
       "      <td>Smit</td>\n",
       "      <td>46.5</td>\n",
       "      <td>2018-05-09 00:00:00</td>\n",
       "      <td>NaT</td>\n",
       "    </tr>\n",
       "    <tr>\n",
       "      <th>2</th>\n",
       "      <td>2018-05-09 01:21:56.323</td>\n",
       "      <td>A02</td>\n",
       "      <td>Smit</td>\n",
       "      <td>32.5</td>\n",
       "      <td>2018-05-09 00:00:00</td>\n",
       "      <td>NaT</td>\n",
       "    </tr>\n",
       "    <tr>\n",
       "      <th>3</th>\n",
       "      <td>2018-05-09 18:11:14.537</td>\n",
       "      <td>A02</td>\n",
       "      <td>Smit</td>\n",
       "      <td>65.5</td>\n",
       "      <td>2018-05-09 00:00:00</td>\n",
       "      <td>NaT</td>\n",
       "    </tr>\n",
       "    <tr>\n",
       "      <th>4</th>\n",
       "      <td>2018-05-09 18:11:26.638</td>\n",
       "      <td>A02</td>\n",
       "      <td>Smit</td>\n",
       "      <td>26.0</td>\n",
       "      <td>2018-05-09 00:00:00</td>\n",
       "      <td>NaT</td>\n",
>>>>>>> f32f75b4efa7b9987b49b1daa01a94adfbbe8f38
       "    </tr>\n",
       "  </tbody>\n",
       "</table>\n",
       "</div>"
      ],
      "text/plain": [
<<<<<<< HEAD
       "                Timestamp Trimmer        Strain  Weight (g)\n",
       "0 2017-10-27 00:51:17.860   House    Lemon Puff        45.0\n",
       "1 2017-10-27 00:51:52.290   House    Lemon Puff        36.0\n",
       "2 2017-10-27 00:52:11.212  Smitty    Lemon Puff        42.0\n",
       "3 2017-10-27 00:55:55.562  Smitty    Lemon Puff        21.5\n",
       "4 2017-10-27 16:07:25.476   House  Grape Breath        14.5"
=======
       "                Timestamp Plant ID Trimmer  Weight (g)          Simple_Date  \\\n",
       "0 2018-05-09 00:12:04.163      A02   TPain        43.0  2018-05-09 00:00:00   \n",
       "1 2018-05-09 00:24:46.277      A02    Smit        46.5  2018-05-09 00:00:00   \n",
       "2 2018-05-09 01:21:56.323      A02    Smit        32.5  2018-05-09 00:00:00   \n",
       "3 2018-05-09 18:11:14.537      A02    Smit        65.5  2018-05-09 00:00:00   \n",
       "4 2018-05-09 18:11:26.638      A02    Smit        26.0  2018-05-09 00:00:00   \n",
       "\n",
       "  Unnamed: 5  \n",
       "0        NaT  \n",
       "1        NaT  \n",
       "2        NaT  \n",
       "3        NaT  \n",
       "4        NaT  "
>>>>>>> f32f75b4efa7b9987b49b1daa01a94adfbbe8f38
      ]
     },
     "execution_count": 5,
     "metadata": {},
     "output_type": "execute_result"
    }
   ],
   "source": [
    "### Look at and Clean the Simple Files\n",
    "\n",
    "april_2017.isnull().sum()\n",
    "april_2017.shape\n",
    "april_2017 = april_2017.dropna()\n",
    "\n",
    "april_2017.shape\n",
    "\n",
    "###########\n",
    "# Clean up the data in the oct_2017 file\n",
    "oct_2017.isnull().sum()\n",
    "oct_2017.head()\n",
    "# Don't need to clean up the data in the oct_2017 file\n",
    "\n",
    "#april_2017.head()\n"
   ]
  },
  {
   "cell_type": "code",
   "execution_count": 6,
   "metadata": {},
   "outputs": [
    {
     "ename": "ValueError",
     "evalue": "Excel file format cannot be determined, you must specify an engine manually.",
     "output_type": "error",
     "traceback": [
      "\u001b[1;31m---------------------------------------------------------------------------\u001b[0m",
      "\u001b[1;31mValueError\u001b[0m                                Traceback (most recent call last)",
      "\u001b[1;32mc:\\Users\\Smitty\\Desktop\\REPOS\\FSCS_Project\\data_load_clean.ipynb Cell 7\u001b[0m in \u001b[0;36m<cell line: 9>\u001b[1;34m()\u001b[0m\n\u001b[0;32m      <a href='vscode-notebook-cell:/c%3A/Users/Smitty/Desktop/REPOS/FSCS_Project/data_load_clean.ipynb#W6sZmlsZQ%3D%3D?line=5'>6</a>\u001b[0m jan_2018_info \u001b[39m=\u001b[39m pd\u001b[39m.\u001b[39mread_excel(full_file_list[\u001b[39m1\u001b[39m], sheet_name\u001b[39m=\u001b[39m\u001b[39m'\u001b[39m\u001b[39mPlant_Info\u001b[39m\u001b[39m'\u001b[39m)\n\u001b[0;32m      <a href='vscode-notebook-cell:/c%3A/Users/Smitty/Desktop/REPOS/FSCS_Project/data_load_clean.ipynb#W6sZmlsZQ%3D%3D?line=7'>8</a>\u001b[0m \u001b[39m# May 2018\u001b[39;00m\n\u001b[1;32m----> <a href='vscode-notebook-cell:/c%3A/Users/Smitty/Desktop/REPOS/FSCS_Project/data_load_clean.ipynb#W6sZmlsZQ%3D%3D?line=8'>9</a>\u001b[0m may_2018_response \u001b[39m=\u001b[39m pd\u001b[39m.\u001b[39;49mread_excel(full_file_list[\u001b[39m2\u001b[39;49m])\n\u001b[0;32m     <a href='vscode-notebook-cell:/c%3A/Users/Smitty/Desktop/REPOS/FSCS_Project/data_load_clean.ipynb#W6sZmlsZQ%3D%3D?line=9'>10</a>\u001b[0m may_2018_info \u001b[39m=\u001b[39m pd\u001b[39m.\u001b[39mread_excel(full_file_list[\u001b[39m2\u001b[39m], sheet_name\u001b[39m=\u001b[39m\u001b[39m'\u001b[39m\u001b[39mPlant_Info\u001b[39m\u001b[39m'\u001b[39m)\n\u001b[0;32m     <a href='vscode-notebook-cell:/c%3A/Users/Smitty/Desktop/REPOS/FSCS_Project/data_load_clean.ipynb#W6sZmlsZQ%3D%3D?line=10'>11</a>\u001b[0m may_2018_info\n",
      "File \u001b[1;32mc:\\Users\\Smitty\\anaconda3\\lib\\site-packages\\pandas\\util\\_decorators.py:311\u001b[0m, in \u001b[0;36mdeprecate_nonkeyword_arguments.<locals>.decorate.<locals>.wrapper\u001b[1;34m(*args, **kwargs)\u001b[0m\n\u001b[0;32m    305\u001b[0m \u001b[39mif\u001b[39;00m \u001b[39mlen\u001b[39m(args) \u001b[39m>\u001b[39m num_allow_args:\n\u001b[0;32m    306\u001b[0m     warnings\u001b[39m.\u001b[39mwarn(\n\u001b[0;32m    307\u001b[0m         msg\u001b[39m.\u001b[39mformat(arguments\u001b[39m=\u001b[39marguments),\n\u001b[0;32m    308\u001b[0m         \u001b[39mFutureWarning\u001b[39;00m,\n\u001b[0;32m    309\u001b[0m         stacklevel\u001b[39m=\u001b[39mstacklevel,\n\u001b[0;32m    310\u001b[0m     )\n\u001b[1;32m--> 311\u001b[0m \u001b[39mreturn\u001b[39;00m func(\u001b[39m*\u001b[39margs, \u001b[39m*\u001b[39m\u001b[39m*\u001b[39mkwargs)\n",
      "File \u001b[1;32mc:\\Users\\Smitty\\anaconda3\\lib\\site-packages\\pandas\\io\\excel\\_base.py:457\u001b[0m, in \u001b[0;36mread_excel\u001b[1;34m(io, sheet_name, header, names, index_col, usecols, squeeze, dtype, engine, converters, true_values, false_values, skiprows, nrows, na_values, keep_default_na, na_filter, verbose, parse_dates, date_parser, thousands, decimal, comment, skipfooter, convert_float, mangle_dupe_cols, storage_options)\u001b[0m\n\u001b[0;32m    455\u001b[0m \u001b[39mif\u001b[39;00m \u001b[39mnot\u001b[39;00m \u001b[39misinstance\u001b[39m(io, ExcelFile):\n\u001b[0;32m    456\u001b[0m     should_close \u001b[39m=\u001b[39m \u001b[39mTrue\u001b[39;00m\n\u001b[1;32m--> 457\u001b[0m     io \u001b[39m=\u001b[39m ExcelFile(io, storage_options\u001b[39m=\u001b[39;49mstorage_options, engine\u001b[39m=\u001b[39;49mengine)\n\u001b[0;32m    458\u001b[0m \u001b[39melif\u001b[39;00m engine \u001b[39mand\u001b[39;00m engine \u001b[39m!=\u001b[39m io\u001b[39m.\u001b[39mengine:\n\u001b[0;32m    459\u001b[0m     \u001b[39mraise\u001b[39;00m \u001b[39mValueError\u001b[39;00m(\n\u001b[0;32m    460\u001b[0m         \u001b[39m\"\u001b[39m\u001b[39mEngine should not be specified when passing \u001b[39m\u001b[39m\"\u001b[39m\n\u001b[0;32m    461\u001b[0m         \u001b[39m\"\u001b[39m\u001b[39man ExcelFile - ExcelFile already has the engine set\u001b[39m\u001b[39m\"\u001b[39m\n\u001b[0;32m    462\u001b[0m     )\n",
      "File \u001b[1;32mc:\\Users\\Smitty\\anaconda3\\lib\\site-packages\\pandas\\io\\excel\\_base.py:1380\u001b[0m, in \u001b[0;36mExcelFile.__init__\u001b[1;34m(self, path_or_buffer, engine, storage_options)\u001b[0m\n\u001b[0;32m   1376\u001b[0m     ext \u001b[39m=\u001b[39m inspect_excel_format(\n\u001b[0;32m   1377\u001b[0m         content_or_path\u001b[39m=\u001b[39mpath_or_buffer, storage_options\u001b[39m=\u001b[39mstorage_options\n\u001b[0;32m   1378\u001b[0m     )\n\u001b[0;32m   1379\u001b[0m     \u001b[39mif\u001b[39;00m ext \u001b[39mis\u001b[39;00m \u001b[39mNone\u001b[39;00m:\n\u001b[1;32m-> 1380\u001b[0m         \u001b[39mraise\u001b[39;00m \u001b[39mValueError\u001b[39;00m(\n\u001b[0;32m   1381\u001b[0m             \u001b[39m\"\u001b[39m\u001b[39mExcel file format cannot be determined, you must specify \u001b[39m\u001b[39m\"\u001b[39m\n\u001b[0;32m   1382\u001b[0m             \u001b[39m\"\u001b[39m\u001b[39man engine manually.\u001b[39m\u001b[39m\"\u001b[39m\n\u001b[0;32m   1383\u001b[0m         )\n\u001b[0;32m   1385\u001b[0m engine \u001b[39m=\u001b[39m config\u001b[39m.\u001b[39mget_option(\u001b[39mf\u001b[39m\u001b[39m\"\u001b[39m\u001b[39mio.excel.\u001b[39m\u001b[39m{\u001b[39;00mext\u001b[39m}\u001b[39;00m\u001b[39m.reader\u001b[39m\u001b[39m\"\u001b[39m, silent\u001b[39m=\u001b[39m\u001b[39mTrue\u001b[39;00m)\n\u001b[0;32m   1386\u001b[0m \u001b[39mif\u001b[39;00m engine \u001b[39m==\u001b[39m \u001b[39m\"\u001b[39m\u001b[39mauto\u001b[39m\u001b[39m\"\u001b[39m:\n",
      "\u001b[1;31mValueError\u001b[0m: Excel file format cannot be determined, you must specify an engine manually."
     ]
    }
   ],
   "source": [
    "#### Pull 2 sheets from the 2018 files\n",
    "### Need to get the form responses and the Plant_info sheet\n",
    "\n",
    "# January 2018\n",
    "jan_2018_response = pd.read_excel(full_file_list[1])\n",
    "jan_2018_info = pd.read_excel(full_file_list[1], sheet_name='Plant_Info')\n",
    "\n",
    "# May 2018\n",
    "may_2018_response = pd.read_excel(full_file_list[2])\n",
    "may_2018_info = pd.read_excel(full_file_list[2], sheet_name='Plant_Info')\n",
    "may_2018_info\n",
    "\n",
    "# September 2018\n",
    "sept_2018_response = pd.read_excel(full_file_list[5])\n",
    "sept_2018_info = pd.read_excel(full_file_list[5], sheet_name='Plant_Info')\n",
    "\n",
    "\n",
    "#full_file_list"
   ]
  },
  {
   "cell_type": "code",
<<<<<<< HEAD
   "execution_count": 7,
=======
   "execution_count": 11,
>>>>>>> f32f75b4efa7b9987b49b1daa01a94adfbbe8f38
   "metadata": {},
   "outputs": [
    {
     "data": {
      "text/html": [
       "<div>\n",
       "<style scoped>\n",
       "    .dataframe tbody tr th:only-of-type {\n",
       "        vertical-align: middle;\n",
       "    }\n",
       "\n",
       "    .dataframe tbody tr th {\n",
       "        vertical-align: top;\n",
       "    }\n",
       "\n",
       "    .dataframe thead th {\n",
       "        text-align: right;\n",
       "    }\n",
       "</style>\n",
       "<table border=\"1\" class=\"dataframe\">\n",
       "  <thead>\n",
       "    <tr style=\"text-align: right;\">\n",
       "      <th></th>\n",
       "      <th>Timestamp</th>\n",
       "      <th>plant_id</th>\n",
       "      <th>Strain Name</th>\n",
       "      <th>Flower Time</th>\n",
       "      <th>Pot Size (gal)</th>\n",
       "      <th>Notes:</th>\n",
       "    </tr>\n",
       "  </thead>\n",
       "  <tbody>\n",
       "    <tr>\n",
       "      <th>0</th>\n",
       "      <td>2018-01-14 21:30:19.244</td>\n",
       "      <td>A001</td>\n",
       "      <td>Tang Breath</td>\n",
       "      <td>45</td>\n",
       "      <td>10</td>\n",
       "      <td>Herming, pulled early</td>\n",
       "    </tr>\n",
       "    <tr>\n",
       "      <th>1</th>\n",
       "      <td>2018-01-17 23:50:29.884</td>\n",
       "      <td>B01</td>\n",
       "      <td>Super Secret Weapon</td>\n",
       "      <td>48</td>\n",
       "      <td>10</td>\n",
       "      <td>Small plant (R), herming</td>\n",
       "    </tr>\n",
       "    <tr>\n",
       "      <th>2</th>\n",
       "      <td>2018-01-23 21:16:55.810</td>\n",
       "      <td>C01</td>\n",
       "      <td>Electric Lemon G</td>\n",
       "      <td>53</td>\n",
       "      <td>7</td>\n",
       "      <td>Pulled early, nasty aphids.</td>\n",
       "    </tr>\n",
       "    <tr>\n",
       "      <th>3</th>\n",
       "      <td>2018-01-24 22:12:14.145</td>\n",
       "      <td>D01</td>\n",
       "      <td>Special Candy Land</td>\n",
       "      <td>55</td>\n",
       "      <td>7</td>\n",
       "      <td>NaN</td>\n",
       "    </tr>\n",
       "    <tr>\n",
       "      <th>4</th>\n",
       "      <td>2018-01-24 22:17:10.804</td>\n",
       "      <td>D02</td>\n",
       "      <td>NYC Diesel</td>\n",
       "      <td>55</td>\n",
       "      <td>7</td>\n",
       "      <td>NaN</td>\n",
       "    </tr>\n",
       "  </tbody>\n",
       "</table>\n",
       "</div>"
      ],
      "text/plain": [
       "                Timestamp plant_id          Strain Name  Flower Time  \\\n",
       "0 2018-01-14 21:30:19.244     A001          Tang Breath           45   \n",
       "1 2018-01-17 23:50:29.884      B01  Super Secret Weapon           48   \n",
       "2 2018-01-23 21:16:55.810      C01     Electric Lemon G           53   \n",
       "3 2018-01-24 22:12:14.145      D01   Special Candy Land           55   \n",
       "4 2018-01-24 22:17:10.804      D02           NYC Diesel           55   \n",
       "\n",
       "   Pot Size (gal)                       Notes:  \n",
       "0              10        Herming, pulled early  \n",
       "1              10     Small plant (R), herming  \n",
       "2               7  Pulled early, nasty aphids.  \n",
       "3               7                          NaN  \n",
       "4               7                          NaN  "
      ]
     },
<<<<<<< HEAD
     "execution_count": 7,
=======
     "execution_count": 11,
>>>>>>> f32f75b4efa7b9987b49b1daa01a94adfbbe8f38
     "metadata": {},
     "output_type": "execute_result"
    }
   ],
   "source": [
    "### MERGE THE 2018 Files on The Plant ID column\n",
    "\n",
    "\n",
    "# First rename the Plant ID columns to plant_id\n",
    "\n",
    "jan_2018_response.rename(columns={'Plant ID': 'plant_id'}, inplace=True)\n",
    "may_2018_response.rename(columns={'Plant ID': 'plant_id'}, inplace=True)\n",
    "sept_2018_response.rename(columns={'Plant ID': 'plant_id'}, inplace=True)\n",
    "\n",
    "jan_2018_info.rename(columns={'PlantID': 'plant_id'}, inplace=True)\n",
    "may_2018_info.rename(columns={'PlantID': 'plant_id'}, inplace=True)\n",
    "sept_2018_info.rename(columns={'PlantID': 'plant_id'}, inplace=True)\n",
    "jan_2018_info.head()\n"
   ]
  },
  {
   "cell_type": "code",
<<<<<<< HEAD
   "execution_count": 8,
=======
   "execution_count": 12,
>>>>>>> f32f75b4efa7b9987b49b1daa01a94adfbbe8f38
   "metadata": {},
   "outputs": [],
   "source": [
    "# Merge the 2018 files on the plant_id column\n",
    "\n",
    "jan_2018 = pd.merge(jan_2018_response, jan_2018_info, on='plant_id')\n",
    "may_2018 = pd.merge(may_2018_response, may_2018_info, on='plant_id')\n",
    "sept_2018 = pd.merge(sept_2018_response, sept_2018_info, on='plant_id')\n"
   ]
  },
  {
   "cell_type": "code",
<<<<<<< HEAD
   "execution_count": 10,
=======
   "execution_count": 13,
>>>>>>> f32f75b4efa7b9987b49b1daa01a94adfbbe8f38
   "metadata": {},
   "outputs": [
    {
     "name": "stdout",
     "output_type": "stream",
     "text": [
      "Timestamp_x         0\n",
      "plant_id            0\n",
      "Trimmer             0\n",
      "Weight (g)          0\n",
      "Simple_Date         0\n",
      "Timestamp_y         3\n",
      "Strain Name         0\n",
      "Flower Time         0\n",
      "Pot Size (gal)      0\n",
      "Notes:            124\n",
      "dtype: int64\n",
      "(166, 10)\n",
      "Timestamp_x     0\n",
      "plant_id        0\n",
      "Trimmer         0\n",
      "Weight (g)      0\n",
      "Simple_Date     0\n",
      "Unnamed: 5     61\n",
      "Timestamp_y     0\n",
      "Strain Name     0\n",
      "Flower Time    55\n",
      "dtype: int64\n",
      "(63, 9)\n",
      "Timestamp_x        0\n",
      "plant_id           0\n",
      "Trimmer            0\n",
      "Weight (g)         0\n",
      "SImple Date        0\n",
      "Timestamp_y       21\n",
      "Strain Name        0\n",
      "Flower Time        0\n",
      "Pot Size (gal)     0\n",
      "Notes:            94\n",
      "dtype: int64\n",
      "(121, 10)\n",
      "Timestamp     0\n",
      "Trimmer       0\n",
      "Strain        0\n",
      "Weight (g)    0\n",
      "dtype: int64\n",
      "(99, 4)\n",
      "Timestamp     0\n",
      "Strain        0\n",
      "Trimmer       0\n",
      "Weight (g)    0\n",
      "dtype: int64\n",
      "(63, 4)\n"
     ]
    }
   ],
   "source": [
    "### Check for null values and clean if needed\n",
    "\n",
    "df_list = [jan_2018, may_2018, sept_2018, oct_2017, april_2017 ]\n",
    "df_name = []\n",
    "\n",
    "for each in df_list:\n",
    "    print(each.isnull().sum())\n",
    "    print(each.shape)\n",
    "    \n"
   ]
  },
  {
   "cell_type": "code",
<<<<<<< HEAD
   "execution_count": 13,
=======
   "execution_count": null,
   "metadata": {},
   "outputs": [],
   "source": [
    "#### CODE FROM FOOD PROJECT TO USE LATER TO COMBINE STRAIN NAMES\n",
    "\n",
    "\n",
    "# Create a dictionary of the column names \n",
    "# Top level of the dictionary is the column name we want to output\n",
    "# next level is a list of the column names we want to average\n",
    "# For many of our features we have the same measure from muptiple years\n",
    "# This operation will average the values from the multiple years\n",
    "\n",
    "column_dict={}\n",
    "for each_column in jan_2018.columns: \n",
    "    s=each_column\n",
    "    result=''.join(i for i in s if not i.isdigit())\n",
    "    if result in column_dict: \n",
    "        column_dict[result].append(each_column)\n",
    "    else: \n",
    "        column_dict[result]=[each_column]"
   ]
  },
  {
   "cell_type": "code",
   "execution_count": 14,
>>>>>>> f32f75b4efa7b9987b49b1daa01a94adfbbe8f38
   "metadata": {},
   "outputs": [
    {
     "data": {
      "text/plain": [
       "['jan_2018', 'may_2018', 'sept_2018', 'oct_2017', 'april_2017']"
      ]
     },
<<<<<<< HEAD
     "execution_count": 13,
=======
     "execution_count": 14,
>>>>>>> f32f75b4efa7b9987b49b1daa01a94adfbbe8f38
     "metadata": {},
     "output_type": "execute_result"
    }
   ],
   "source": [
    "df_list_name = ['jan_2018', 'may_2018', 'sept_2018', 'oct_2017', 'april_2017']\n",
    "df_list_name "
   ]
  },
  {
   "cell_type": "code",
<<<<<<< HEAD
   "execution_count": 59,
=======
   "execution_count": 15,
>>>>>>> f32f75b4efa7b9987b49b1daa01a94adfbbe8f38
   "metadata": {},
   "outputs": [
    {
     "name": "stdout",
     "output_type": "stream",
     "text": [
      "The total weight of the plants is 118.43232735015569 ounces or 7.4020204593847305 pounds\n"
     ]
    }
   ],
   "source": [
    "### October 2017\n",
    "\n",
    "oct_2017.head()\n",
    "oct_2017.rename(columns={'Strain': 'Strain Name'}, inplace=True)\n",
    "oct_2017.head()\n",
    "\n",
    "oct_2017_by_strain = pd.pivot_table(oct_2017, \n",
    "                                    values='Weight (g)',\n",
    "                                    index=['Strain Name'],\n",
    "                                    columns=['Trimmer'],\n",
    "                                    aggfunc=np.sum)\n",
    "\n",
    "oct_2017_by_strain['Total Wt (g)'] = oct_2017_by_strain.sum(axis=1)\n",
    "oct_2017_by_strain['Total Wt (oz)'] = oct_2017_by_strain['Total Wt (g)'] / 28.3495231\n",
    "oct_2017_by_strain.head()\n",
    "\n",
    "print(f'The total weight of the plants is {oct_2017_by_strain[\"Total Wt (oz)\"].sum()} ounces or {oct_2017_by_strain[\"Total Wt (oz)\"].sum()/16} pounds')\n",
    "\n"
   ]
  },
  {
   "cell_type": "code",
   "execution_count": 60,
   "metadata": {},
   "outputs": [
    {
     "name": "stdout",
     "output_type": "stream",
     "text": [
      "The total weight of the plants is 127.10972199740462 ounces or 7.944357624837789 pounds\n"
     ]
    }
   ],
   "source": [
    "### April 2017\n",
    "\n",
    "april_2017.head()\n",
    "\n",
    "april_2017.rename(columns={'Strain':'Strain Name'}, inplace=True)\n",
    "\n",
    "april_2017_by_strain = pd.pivot_table(april_2017,\n",
    "                                        values='Weight (g)',\n",
    "                                        index=['Strain Name'],\n",
    "                                        columns=['Trimmer'],\n",
    "                                        aggfunc=np.sum)\n",
    "\n",
    "april_2017_by_strain['Total Wt (g)'] = april_2017_by_strain.sum(axis=1)\n",
    "april_2017_by_strain['Total Wt (oz)'] = april_2017_by_strain['Total Wt (g)'] / 28.3495231\n",
    "april_2017_by_strain.head()\n",
    "\n",
    "\n",
    "print(f'The total weight of the plants is {april_2017_by_strain[\"Total Wt (oz)\"].sum()} ounces or {april_2017_by_strain[\"Total Wt (oz)\"].sum()/16} pounds')"
   ]
  },
  {
   "cell_type": "code",
   "execution_count": 61,
   "metadata": {},
   "outputs": [
    {
     "name": "stdout",
     "output_type": "stream",
     "text": [
      "The total weight of the plants is 124.56646933859709 ounces or 7.785404333662318 pounds\n"
     ]
    }
   ],
   "source": [
    "#### MAY 2018\n",
    "\n",
    "may_2018_by_strain = pd.pivot_table(may_2018, values='Weight (g)',\n",
    "                                 index=['Strain Name'], \n",
    "                                 columns=['Trimmer'], aggfunc=np.sum)\n",
    "\n",
    "may_2018_by_strain['Total Wt (g)'] = may_2018_by_strain.sum(axis=1)\n",
    "may_2018_by_strain['Total Wt (oz)'] = may_2018_by_strain['Total Wt (g)'] / 28.3495231\n",
    "may_2018_by_strain.head()\n",
    "\n",
    "\n",
    "print(f'The total weight of the plants is {may_2018_by_strain[\"Total Wt (oz)\"].sum()} ounces or {may_2018_by_strain[\"Total Wt (oz)\"].sum()/16} pounds')"
   ]
  },
  {
   "cell_type": "code",
   "execution_count": 62,
   "metadata": {},
   "outputs": [
    {
     "name": "stdout",
     "output_type": "stream",
     "text": [
      "The total weight of the plants is 370.84574449155383 ounces or 23.177859030722114 pounds\n"
     ]
    }
   ],
   "source": [
    "#### September 2018\n",
    "\n",
    "sept_2018_by_strain = pd.pivot_table(sept_2018, values='Weight (g)',\n",
    "                                    index=['Strain Name'],\n",
    "                                    columns=['Trimmer'], aggfunc=np.sum)\n",
    "\n",
    "sept_2018_by_strain['Total Wt (g)'] = sept_2018_by_strain.sum(axis=1)\n",
    "sept_2018_by_strain['Total Wt (oz)'] = sept_2018_by_strain['Total Wt (g)'] / 28.3495231\n",
    "sept_2018_by_strain.head()\n",
    "\n",
    "print(f'The total weight of the plants is {sept_2018_by_strain[\"Total Wt (oz)\"].sum()} ounces or {sept_2018_by_strain[\"Total Wt (oz)\"].sum()/16} pounds')"
   ]
  },
  {
   "cell_type": "code",
   "execution_count": 65,
   "metadata": {},
   "outputs": [
    {
     "name": "stdout",
     "output_type": "stream",
     "text": [
      "The total weight of the plants is 326.8696960902316 ounces or 20.429356005639477 pounds\n"
     ]
    }
   ],
   "source": [
    "#### Example of Aggrigating the data\n",
    "\n",
    "#### Create Pivot Tables for the 2018 files\n",
    "\n",
    "jan_2018_by_strain = pd.pivot_table(jan_2018, \n",
    "    values='Weight (g)', \n",
    "    index='Strain Name', \n",
    "    columns='Trimmer', \n",
    "    aggfunc=np.sum)\n",
    "\n",
    "# Total The Weight by Strain Name\n",
    "jan_2018_by_strain['Total Wt'] = jan_2018_by_strain.sum(axis=1)\n",
    "\n",
    "# Create a new column for the total weight in ounces by strain name\n",
    "\n",
    "jan_2018_by_strain['Total Wt (oz)'] = jan_2018_by_strain['Total Wt'] / 28.3495231\n",
    "\n",
    "jan_2018_by_strain\n",
    "\n",
    "print(f'The total weight of the plants is {jan_2018_by_strain[\"Total Wt (oz)\"].sum()} ounces or {jan_2018_by_strain[\"Total Wt (oz)\"].sum()/16} pounds')"
   ]
  },
  {
   "cell_type": "code",
   "execution_count": 66,
   "metadata": {},
   "outputs": [],
   "source": [
    "#### Output the data to a csv files\n",
    "## Tot look at in Tableau\n",
    "\n",
    "jan_2018_by_strain.to_csv('data/jan_2018_by_strain.csv')\n",
    "may_2018_by_strain.to_csv('data/may_2018_by_strain.csv')\n",
    "sept_2018_by_strain.to_csv('data/sept_2018_by_strain.csv')\n",
    "oct_2017_by_strain.to_csv('data/oct_2017_by_strain.csv')\n",
    "april_2017_by_strain.to_csv('data/april_2017_by_strain.csv')"
   ]
  },
  {
   "cell_type": "code",
   "execution_count": null,
   "metadata": {},
   "outputs": [],
   "source": []
  }
 ],
 "metadata": {
  "kernelspec": {
<<<<<<< HEAD
   "display_name": "mlenv",
=======
   "display_name": "base",
>>>>>>> f32f75b4efa7b9987b49b1daa01a94adfbbe8f38
   "language": "python",
   "name": "mlenv"
  },
  "language_info": {
   "codemirror_mode": {
    "name": "ipython",
    "version": 3
   },
   "file_extension": ".py",
   "mimetype": "text/x-python",
   "name": "python",
   "nbconvert_exporter": "python",
   "pygments_lexer": "ipython3",
   "version": "3.9.12"
  },
  "orig_nbformat": 4,
  "vscode": {
   "interpreter": {
<<<<<<< HEAD
    "hash": "cc9c5b9d7e73d0a6482692a6f05d05c6b6079306fc54c435bdf6ad9191c91486"
=======
    "hash": "c39409374280883e8269d634f54b36339d04ff5fd42825c34d0da32e37219053"
>>>>>>> f32f75b4efa7b9987b49b1daa01a94adfbbe8f38
   }
  }
 },
 "nbformat": 4,
 "nbformat_minor": 2
}
