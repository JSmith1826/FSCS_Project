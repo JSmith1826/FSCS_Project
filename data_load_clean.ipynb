{
 "cells": [
  {
   "cell_type": "code",
   "execution_count": 2,
   "metadata": {},
   "outputs": [],
   "source": [
    "# Dependencies\n",
    "import os\n",
    "import pandas as pd\n",
    "import numpy as np"
   ]
  },
  {
   "cell_type": "code",
   "execution_count": 3,
   "metadata": {},
   "outputs": [
    {
     "name": "stdout",
     "output_type": "stream",
     "text": [
      "['data/raw/April_2017.xlsx', 'data/raw/Jan_2018.xlsx', 'data/raw/May_2018.xlsx', 'data/raw/Oct_2017.xlsx', 'data/raw/plant_codes_Jan_2018.xlsx', 'data/raw/Sept_2018.xlsx']\n"
     ]
    }
   ],
   "source": [
    "# Create a list of paths to our raw data files\n",
    "\n",
    "DATA_DIR = 'data/raw/'\n",
    "\n",
    "### List of files to be read\n",
    "\n",
    "files = os.listdir(DATA_DIR)\n",
    "#print(files)\n",
    "\n",
    "full_file_list = []\n",
    "\n",
    "for file in files:\n",
    "    full_file_list.append(DATA_DIR + file)\n",
    "print(full_file_list)"
   ]
  },
  {
   "cell_type": "code",
   "execution_count": 4,
   "metadata": {},
   "outputs": [
    {
     "name": "stdout",
     "output_type": "stream",
     "text": [
      "                Timestamp Trimmer        Strain  Weight (g)\n",
      "0 2017-10-27 00:51:17.860   House    Lemon Puff        45.0\n",
      "1 2017-10-27 00:51:52.290   House    Lemon Puff        36.0\n",
      "2 2017-10-27 00:52:11.212  Smitty    Lemon Puff        42.0\n",
      "3 2017-10-27 00:55:55.562  Smitty    Lemon Puff        21.5\n",
      "4 2017-10-27 16:07:25.476   House  Grape Breath        14.5\n"
     ]
    }
   ],
   "source": [
    "# Read in our data files\n",
    "## Start with the two simple 2017 files that are a single sheet\n",
    "\n",
    "#df_list = []\n",
    "\n",
    "april_2017 = pd.read_excel(full_file_list[0])\n",
    "oct_2017 = pd.read_excel(full_file_list[3])\n",
    "\n",
    "print(oct_2017.head())"
   ]
  },
  {
   "cell_type": "code",
   "execution_count": 5,
   "metadata": {},
   "outputs": [
    {
     "data": {
      "text/html": [
       "<div>\n",
       "<style scoped>\n",
       "    .dataframe tbody tr th:only-of-type {\n",
       "        vertical-align: middle;\n",
       "    }\n",
       "\n",
       "    .dataframe tbody tr th {\n",
       "        vertical-align: top;\n",
       "    }\n",
       "\n",
       "    .dataframe thead th {\n",
       "        text-align: right;\n",
       "    }\n",
       "</style>\n",
       "<table border=\"1\" class=\"dataframe\">\n",
       "  <thead>\n",
       "    <tr style=\"text-align: right;\">\n",
       "      <th></th>\n",
       "      <th>Timestamp</th>\n",
       "      <th>Trimmer</th>\n",
       "      <th>Strain</th>\n",
       "      <th>Weight (g)</th>\n",
       "    </tr>\n",
       "  </thead>\n",
       "  <tbody>\n",
       "    <tr>\n",
       "      <th>0</th>\n",
       "      <td>2017-10-27 00:51:17.860</td>\n",
       "      <td>House</td>\n",
       "      <td>Lemon Puff</td>\n",
       "      <td>45.0</td>\n",
       "    </tr>\n",
       "    <tr>\n",
       "      <th>1</th>\n",
       "      <td>2017-10-27 00:51:52.290</td>\n",
       "      <td>House</td>\n",
       "      <td>Lemon Puff</td>\n",
       "      <td>36.0</td>\n",
       "    </tr>\n",
       "    <tr>\n",
       "      <th>2</th>\n",
       "      <td>2017-10-27 00:52:11.212</td>\n",
       "      <td>Smitty</td>\n",
       "      <td>Lemon Puff</td>\n",
       "      <td>42.0</td>\n",
       "    </tr>\n",
       "    <tr>\n",
       "      <th>3</th>\n",
       "      <td>2017-10-27 00:55:55.562</td>\n",
       "      <td>Smitty</td>\n",
       "      <td>Lemon Puff</td>\n",
       "      <td>21.5</td>\n",
       "    </tr>\n",
       "    <tr>\n",
       "      <th>4</th>\n",
       "      <td>2017-10-27 16:07:25.476</td>\n",
       "      <td>House</td>\n",
       "      <td>Grape Breath</td>\n",
       "      <td>14.5</td>\n",
       "    </tr>\n",
       "  </tbody>\n",
       "</table>\n",
       "</div>"
      ],
      "text/plain": [
       "                Timestamp Trimmer        Strain  Weight (g)\n",
       "0 2017-10-27 00:51:17.860   House    Lemon Puff        45.0\n",
       "1 2017-10-27 00:51:52.290   House    Lemon Puff        36.0\n",
       "2 2017-10-27 00:52:11.212  Smitty    Lemon Puff        42.0\n",
       "3 2017-10-27 00:55:55.562  Smitty    Lemon Puff        21.5\n",
       "4 2017-10-27 16:07:25.476   House  Grape Breath        14.5"
      ]
     },
     "execution_count": 5,
     "metadata": {},
     "output_type": "execute_result"
    }
   ],
   "source": [
    "### Look at and Clean the Simple Files\n",
    "\n",
    "april_2017.isnull().sum()\n",
    "april_2017.shape\n",
    "april_2017 = april_2017.dropna()\n",
    "\n",
    "april_2017.shape\n",
    "\n",
    "###########\n",
    "# Clean up the data in the oct_2017 file\n",
    "oct_2017.isnull().sum()\n",
    "oct_2017.head()\n",
    "# Don't need to clean up the data in the oct_2017 file\n",
    "\n",
    "#april_2017.head()\n"
   ]
  },
  {
   "cell_type": "code",
   "execution_count": 6,
   "metadata": {},
   "outputs": [],
   "source": [
    "#### Pull 2 sheets from the 2018 files\n",
    "### Need to get the form responses and the Plant_info sheet\n",
    "\n",
    "# January 2018\n",
    "jan_2018_response = pd.read_excel(full_file_list[1])\n",
    "jan_2018_info = pd.read_excel(full_file_list[1], sheet_name='Plant_Info')\n",
    "\n",
    "# May 2018\n",
    "may_2018_response = pd.read_excel(full_file_list[2])\n",
    "may_2018_info = pd.read_excel(full_file_list[2], sheet_name='Plant_Info')\n",
    "may_2018_info\n",
    "\n",
    "# September 2018\n",
    "sept_2018_response = pd.read_excel(full_file_list[5])\n",
    "sept_2018_info = pd.read_excel(full_file_list[5], sheet_name='Plant_Info')\n",
    "\n",
    "\n",
    "#full_file_list"
   ]
  },
  {
   "cell_type": "code",
   "execution_count": 7,
   "metadata": {},
   "outputs": [
    {
     "data": {
      "text/html": [
       "<div>\n",
       "<style scoped>\n",
       "    .dataframe tbody tr th:only-of-type {\n",
       "        vertical-align: middle;\n",
       "    }\n",
       "\n",
       "    .dataframe tbody tr th {\n",
       "        vertical-align: top;\n",
       "    }\n",
       "\n",
       "    .dataframe thead th {\n",
       "        text-align: right;\n",
       "    }\n",
       "</style>\n",
       "<table border=\"1\" class=\"dataframe\">\n",
       "  <thead>\n",
       "    <tr style=\"text-align: right;\">\n",
       "      <th></th>\n",
       "      <th>Timestamp</th>\n",
       "      <th>plant_id</th>\n",
       "      <th>Strain Name</th>\n",
       "      <th>Flower Time</th>\n",
       "      <th>Pot Size (gal)</th>\n",
       "      <th>Notes:</th>\n",
       "    </tr>\n",
       "  </thead>\n",
       "  <tbody>\n",
       "    <tr>\n",
       "      <th>0</th>\n",
       "      <td>2018-01-14 21:30:19.244</td>\n",
       "      <td>A001</td>\n",
       "      <td>Tang Breath</td>\n",
       "      <td>45</td>\n",
       "      <td>10</td>\n",
       "      <td>Herming, pulled early</td>\n",
       "    </tr>\n",
       "    <tr>\n",
       "      <th>1</th>\n",
       "      <td>2018-01-17 23:50:29.884</td>\n",
       "      <td>B01</td>\n",
       "      <td>Super Secret Weapon</td>\n",
       "      <td>48</td>\n",
       "      <td>10</td>\n",
       "      <td>Small plant (R), herming</td>\n",
       "    </tr>\n",
       "    <tr>\n",
       "      <th>2</th>\n",
       "      <td>2018-01-23 21:16:55.810</td>\n",
       "      <td>C01</td>\n",
       "      <td>Electric Lemon G</td>\n",
       "      <td>53</td>\n",
       "      <td>7</td>\n",
       "      <td>Pulled early, nasty aphids.</td>\n",
       "    </tr>\n",
       "    <tr>\n",
       "      <th>3</th>\n",
       "      <td>2018-01-24 22:12:14.145</td>\n",
       "      <td>D01</td>\n",
       "      <td>Special Candy Land</td>\n",
       "      <td>55</td>\n",
       "      <td>7</td>\n",
       "      <td>NaN</td>\n",
       "    </tr>\n",
       "    <tr>\n",
       "      <th>4</th>\n",
       "      <td>2018-01-24 22:17:10.804</td>\n",
       "      <td>D02</td>\n",
       "      <td>NYC Diesel</td>\n",
       "      <td>55</td>\n",
       "      <td>7</td>\n",
       "      <td>NaN</td>\n",
       "    </tr>\n",
       "  </tbody>\n",
       "</table>\n",
       "</div>"
      ],
      "text/plain": [
       "                Timestamp plant_id          Strain Name  Flower Time  \\\n",
       "0 2018-01-14 21:30:19.244     A001          Tang Breath           45   \n",
       "1 2018-01-17 23:50:29.884      B01  Super Secret Weapon           48   \n",
       "2 2018-01-23 21:16:55.810      C01     Electric Lemon G           53   \n",
       "3 2018-01-24 22:12:14.145      D01   Special Candy Land           55   \n",
       "4 2018-01-24 22:17:10.804      D02           NYC Diesel           55   \n",
       "\n",
       "   Pot Size (gal)                       Notes:  \n",
       "0              10        Herming, pulled early  \n",
       "1              10     Small plant (R), herming  \n",
       "2               7  Pulled early, nasty aphids.  \n",
       "3               7                          NaN  \n",
       "4               7                          NaN  "
      ]
     },
     "execution_count": 7,
     "metadata": {},
     "output_type": "execute_result"
    }
   ],
   "source": [
    "### MERGE THE 2018 Files on The Plant ID column\n",
    "\n",
    "\n",
    "# First rename the Plant ID columns to plant_id\n",
    "\n",
    "jan_2018_response.rename(columns={'Plant ID': 'plant_id'}, inplace=True)\n",
    "may_2018_response.rename(columns={'Plant ID': 'plant_id'}, inplace=True)\n",
    "sept_2018_response.rename(columns={'Plant ID': 'plant_id'}, inplace=True)\n",
    "\n",
    "jan_2018_info.rename(columns={'PlantID': 'plant_id'}, inplace=True)\n",
    "may_2018_info.rename(columns={'PlantID': 'plant_id'}, inplace=True)\n",
    "sept_2018_info.rename(columns={'PlantID': 'plant_id'}, inplace=True)\n",
    "jan_2018_info.head()\n"
   ]
  },
  {
   "cell_type": "code",
   "execution_count": 8,
   "metadata": {},
   "outputs": [],
   "source": [
    "# Merge the 2018 files on the plant_id column\n",
    "\n",
    "jan_2018 = pd.merge(jan_2018_response, jan_2018_info, on='plant_id')\n",
    "may_2018 = pd.merge(may_2018_response, may_2018_info, on='plant_id')\n",
    "sept_2018 = pd.merge(sept_2018_response, sept_2018_info, on='plant_id')\n"
   ]
  },
  {
   "cell_type": "code",
   "execution_count": 10,
   "metadata": {},
   "outputs": [
    {
     "name": "stdout",
     "output_type": "stream",
     "text": [
      "Timestamp_x         0\n",
      "plant_id            0\n",
      "Trimmer             0\n",
      "Weight (g)          0\n",
      "Simple_Date         0\n",
      "Timestamp_y         3\n",
      "Strain Name         0\n",
      "Flower Time         0\n",
      "Pot Size (gal)      0\n",
      "Notes:            124\n",
      "dtype: int64\n",
      "(166, 10)\n",
      "Timestamp_x     0\n",
      "plant_id        0\n",
      "Trimmer         0\n",
      "Weight (g)      0\n",
      "Simple_Date     0\n",
      "Unnamed: 5     61\n",
      "Timestamp_y     0\n",
      "Strain Name     0\n",
      "Flower Time    55\n",
      "dtype: int64\n",
      "(63, 9)\n",
      "Timestamp_x        0\n",
      "plant_id           0\n",
      "Trimmer            0\n",
      "Weight (g)         0\n",
      "SImple Date        0\n",
      "Timestamp_y       21\n",
      "Strain Name        0\n",
      "Flower Time        0\n",
      "Pot Size (gal)     0\n",
      "Notes:            94\n",
      "dtype: int64\n",
      "(121, 10)\n",
      "Timestamp     0\n",
      "Trimmer       0\n",
      "Strain        0\n",
      "Weight (g)    0\n",
      "dtype: int64\n",
      "(99, 4)\n",
      "Timestamp     0\n",
      "Strain        0\n",
      "Trimmer       0\n",
      "Weight (g)    0\n",
      "dtype: int64\n",
      "(63, 4)\n"
     ]
    }
   ],
   "source": [
    "### Check for null values and clean if needed\n",
    "\n",
    "df_list = [jan_2018, may_2018, sept_2018, oct_2017, april_2017 ]\n",
    "df_name = []\n",
    "\n",
    "for each in df_list:\n",
    "    print(each.isnull().sum())\n",
    "    print(each.shape)\n",
    "    \n"
   ]
  },
  {
   "cell_type": "code",
   "execution_count": 13,
   "metadata": {},
   "outputs": [
    {
     "data": {
      "text/plain": [
       "['jan_2018', 'may_2018', 'sept_2018', 'oct_2017', 'april_2017']"
      ]
     },
     "execution_count": 13,
     "metadata": {},
     "output_type": "execute_result"
    }
   ],
   "source": [
    "df_list_name = ['jan_2018', 'may_2018', 'sept_2018', 'oct_2017', 'april_2017']\n",
    "df_list_name "
   ]
  },
  {
   "cell_type": "code",
   "execution_count": 59,
   "metadata": {},
   "outputs": [
    {
     "name": "stdout",
     "output_type": "stream",
     "text": [
      "The total weight of the plants is 118.43232735015569 ounces or 7.4020204593847305 pounds\n"
     ]
    }
   ],
   "source": [
    "### October 2017\n",
    "\n",
    "oct_2017.head()\n",
    "oct_2017.rename(columns={'Strain': 'Strain Name'}, inplace=True)\n",
    "oct_2017.head()\n",
    "\n",
    "oct_2017_by_strain = pd.pivot_table(oct_2017, \n",
    "                                    values='Weight (g)',\n",
    "                                    index=['Strain Name'],\n",
    "                                    columns=['Trimmer'],\n",
    "                                    aggfunc=np.sum)\n",
    "\n",
    "oct_2017_by_strain['Total Wt (g)'] = oct_2017_by_strain.sum(axis=1)\n",
    "oct_2017_by_strain['Total Wt (oz)'] = oct_2017_by_strain['Total Wt (g)'] / 28.3495231\n",
    "oct_2017_by_strain.head()\n",
    "\n",
    "print(f'The total weight of the plants is {oct_2017_by_strain[\"Total Wt (oz)\"].sum()} ounces or {oct_2017_by_strain[\"Total Wt (oz)\"].sum()/16} pounds')\n",
    "\n"
   ]
  },
  {
   "cell_type": "code",
   "execution_count": 60,
   "metadata": {},
   "outputs": [
    {
     "name": "stdout",
     "output_type": "stream",
     "text": [
      "The total weight of the plants is 127.10972199740462 ounces or 7.944357624837789 pounds\n"
     ]
    }
   ],
   "source": [
    "### April 2017\n",
    "\n",
    "april_2017.head()\n",
    "\n",
    "april_2017.rename(columns={'Strain':'Strain Name'}, inplace=True)\n",
    "\n",
    "april_2017_by_strain = pd.pivot_table(april_2017,\n",
    "                                        values='Weight (g)',\n",
    "                                        index=['Strain Name'],\n",
    "                                        columns=['Trimmer'],\n",
    "                                        aggfunc=np.sum)\n",
    "\n",
    "april_2017_by_strain['Total Wt (g)'] = april_2017_by_strain.sum(axis=1)\n",
    "april_2017_by_strain['Total Wt (oz)'] = april_2017_by_strain['Total Wt (g)'] / 28.3495231\n",
    "april_2017_by_strain.head()\n",
    "\n",
    "\n",
    "print(f'The total weight of the plants is {april_2017_by_strain[\"Total Wt (oz)\"].sum()} ounces or {april_2017_by_strain[\"Total Wt (oz)\"].sum()/16} pounds')"
   ]
  },
  {
   "cell_type": "code",
   "execution_count": 61,
   "metadata": {},
   "outputs": [
    {
     "name": "stdout",
     "output_type": "stream",
     "text": [
      "The total weight of the plants is 124.56646933859709 ounces or 7.785404333662318 pounds\n"
     ]
    }
   ],
   "source": [
    "#### MAY 2018\n",
    "\n",
    "may_2018_by_strain = pd.pivot_table(may_2018, values='Weight (g)',\n",
    "                                 index=['Strain Name'], \n",
    "                                 columns=['Trimmer'], aggfunc=np.sum)\n",
    "\n",
    "may_2018_by_strain['Total Wt (g)'] = may_2018_by_strain.sum(axis=1)\n",
    "may_2018_by_strain['Total Wt (oz)'] = may_2018_by_strain['Total Wt (g)'] / 28.3495231\n",
    "may_2018_by_strain.head()\n",
    "\n",
    "\n",
    "print(f'The total weight of the plants is {may_2018_by_strain[\"Total Wt (oz)\"].sum()} ounces or {may_2018_by_strain[\"Total Wt (oz)\"].sum()/16} pounds')"
   ]
  },
  {
   "cell_type": "code",
   "execution_count": 62,
   "metadata": {},
   "outputs": [
    {
     "name": "stdout",
     "output_type": "stream",
     "text": [
      "The total weight of the plants is 370.84574449155383 ounces or 23.177859030722114 pounds\n"
     ]
    }
   ],
   "source": [
    "#### September 2018\n",
    "\n",
    "sept_2018_by_strain = pd.pivot_table(sept_2018, values='Weight (g)',\n",
    "                                    index=['Strain Name'],\n",
    "                                    columns=['Trimmer'], aggfunc=np.sum)\n",
    "\n",
    "sept_2018_by_strain['Total Wt (g)'] = sept_2018_by_strain.sum(axis=1)\n",
    "sept_2018_by_strain['Total Wt (oz)'] = sept_2018_by_strain['Total Wt (g)'] / 28.3495231\n",
    "sept_2018_by_strain.head()\n",
    "\n",
    "print(f'The total weight of the plants is {sept_2018_by_strain[\"Total Wt (oz)\"].sum()} ounces or {sept_2018_by_strain[\"Total Wt (oz)\"].sum()/16} pounds')"
   ]
  },
  {
   "cell_type": "code",
   "execution_count": 65,
   "metadata": {},
   "outputs": [
    {
     "name": "stdout",
     "output_type": "stream",
     "text": [
      "The total weight of the plants is 326.8696960902316 ounces or 20.429356005639477 pounds\n"
     ]
    }
   ],
   "source": [
    "#### Example of Aggrigating the data\n",
    "\n",
    "#### Create Pivot Tables for the 2018 files\n",
    "\n",
    "jan_2018_by_strain = pd.pivot_table(jan_2018, \n",
    "    values='Weight (g)', \n",
    "    index='Strain Name', \n",
    "    columns='Trimmer', \n",
    "    aggfunc=np.sum)\n",
    "\n",
    "# Total The Weight by Strain Name\n",
    "jan_2018_by_strain['Total Wt'] = jan_2018_by_strain.sum(axis=1)\n",
    "\n",
    "# Create a new column for the total weight in ounces by strain name\n",
    "\n",
    "jan_2018_by_strain['Total Wt (oz)'] = jan_2018_by_strain['Total Wt'] / 28.3495231\n",
    "\n",
    "jan_2018_by_strain\n",
    "\n",
    "print(f'The total weight of the plants is {jan_2018_by_strain[\"Total Wt (oz)\"].sum()} ounces or {jan_2018_by_strain[\"Total Wt (oz)\"].sum()/16} pounds')"
   ]
  },
  {
   "cell_type": "code",
   "execution_count": 66,
   "metadata": {},
   "outputs": [],
   "source": [
    "#### Output the data to a csv files\n",
    "## Tot look at in Tableau\n",
    "\n",
    "jan_2018_by_strain.to_csv('data/jan_2018_by_strain.csv')\n",
    "may_2018_by_strain.to_csv('data/may_2018_by_strain.csv')\n",
    "sept_2018_by_strain.to_csv('data/sept_2018_by_strain.csv')\n",
    "oct_2017_by_strain.to_csv('data/oct_2017_by_strain.csv')\n",
    "april_2017_by_strain.to_csv('data/april_2017_by_strain.csv')"
   ]
  },
  {
   "cell_type": "code",
   "execution_count": null,
   "metadata": {},
   "outputs": [],
   "source": []
  }
 ],
 "metadata": {
  "kernelspec": {
   "display_name": "mlenv",
   "language": "python",
   "name": "mlenv"
  },
  "language_info": {
   "codemirror_mode": {
    "name": "ipython",
    "version": 3
   },
   "file_extension": ".py",
   "mimetype": "text/x-python",
   "name": "python",
   "nbconvert_exporter": "python",
   "pygments_lexer": "ipython3",
   "version": "3.9.13"
  },
  "orig_nbformat": 4,
  "vscode": {
   "interpreter": {
    "hash": "cc9c5b9d7e73d0a6482692a6f05d05c6b6079306fc54c435bdf6ad9191c91486"
   }
  }
 },
 "nbformat": 4,
 "nbformat_minor": 2
}
