{
 "cells": [
  {
   "cell_type": "code",
   "execution_count": 1,
   "metadata": {},
   "outputs": [],
   "source": [
    "# Dependencies\n",
    "import os\n",
    "import pandas as pd\n",
    "import numpy as np"
   ]
  },
  {
   "cell_type": "code",
   "execution_count": 2,
   "metadata": {},
   "outputs": [
    {
     "name": "stdout",
     "output_type": "stream",
     "text": [
      "['data/raw/April_2017.xlsx', 'data/raw/Jan_2018.xlsx', 'data/raw/May_2018.xlsx', 'data/raw/Oct_2017.xlsx', 'data/raw/plant_codes_Jan_2018.xlsx', 'data/raw/Sept_2018.xlsx']\n"
     ]
    }
   ],
   "source": [
    "# Create a list of paths to our raw data files\n",
    "\n",
    "DATA_DIR = 'data/raw/'\n",
    "\n",
    "### List of files to be read\n",
    "\n",
    "files = os.listdir(DATA_DIR)\n",
    "#print(files)\n",
    "\n",
    "full_file_list = []\n",
    "\n",
    "for file in files:\n",
    "    full_file_list.append(DATA_DIR + file)\n",
    "print(full_file_list)"
   ]
  },
  {
   "cell_type": "code",
   "execution_count": 3,
   "metadata": {},
   "outputs": [],
   "source": [
    "# Read in our data files\n",
    "## Start with the two simple 2017 files that are a single sheet\n",
    "\n",
    "#df_list = []\n",
    "\n",
    "april_2017 = pd.read_excel(full_file_list[0])\n",
    "oct_2017 = pd.read_excel(full_file_list[3])\n",
    "\n",
    "#print(oct_2017.head())"
   ]
  },
  {
   "cell_type": "code",
   "execution_count": 4,
   "metadata": {},
   "outputs": [
    {
     "data": {
      "text/plain": [
       "(63, 4)"
      ]
     },
     "execution_count": 4,
     "metadata": {},
     "output_type": "execute_result"
    }
   ],
   "source": [
    "### Look at and Clean the Simple Files\n",
    "\n",
    "april_2017.isnull().sum()\n",
    "april_2017.shape\n",
    "april_2017 = april_2017.dropna()\n",
    "\n",
    "april_2017.shape\n",
    "\n",
    "# ###########\n",
    "# # Clean up the data in the oct_2017 file\n",
    "# oct_2017.isnull().sum()\n",
    "# oct_2017.head()\n",
    "# # Don't need to clean up the data in the oct_2017 file\n",
    "\n",
    "# #april_2017.head()\n"
   ]
  },
  {
   "cell_type": "code",
   "execution_count": 5,
   "metadata": {},
   "outputs": [],
   "source": [
    "#### Pull 2 sheets from the 2018 files\n",
    "### Need to get the form responses and the Plant_info sheet\n",
    "\n",
    "# January 2018\n",
    "jan_2018_response = pd.read_excel(full_file_list[1])\n",
    "jan_2018_info = pd.read_excel(full_file_list[1], sheet_name='Plant_Info')\n",
    "\n",
    "# May 2018\n",
    "may_2018_response = pd.read_excel(full_file_list[2])\n",
    "may_2018_info = pd.read_excel(full_file_list[2], sheet_name='Plant_Info')\n",
    "may_2018_info\n",
    "\n",
    "# September 2018\n",
    "sept_2018_response = pd.read_excel(full_file_list[5])\n",
    "sept_2018_info = pd.read_excel(full_file_list[5], sheet_name='Plant_Info')\n",
    "\n",
    "\n",
    "#full_file_list"
   ]
  },
  {
   "cell_type": "code",
   "execution_count": 6,
   "metadata": {},
   "outputs": [
    {
     "data": {
      "text/html": [
       "<div>\n",
       "<style scoped>\n",
       "    .dataframe tbody tr th:only-of-type {\n",
       "        vertical-align: middle;\n",
       "    }\n",
       "\n",
       "    .dataframe tbody tr th {\n",
       "        vertical-align: top;\n",
       "    }\n",
       "\n",
       "    .dataframe thead th {\n",
       "        text-align: right;\n",
       "    }\n",
       "</style>\n",
       "<table border=\"1\" class=\"dataframe\">\n",
       "  <thead>\n",
       "    <tr style=\"text-align: right;\">\n",
       "      <th></th>\n",
       "      <th>Timestamp</th>\n",
       "      <th>plant_id</th>\n",
       "      <th>Strain Name</th>\n",
       "      <th>Flower Time</th>\n",
       "      <th>Pot Size (gal)</th>\n",
       "      <th>Notes:</th>\n",
       "    </tr>\n",
       "  </thead>\n",
       "  <tbody>\n",
       "    <tr>\n",
       "      <th>0</th>\n",
       "      <td>2018-01-14 21:30:19.244</td>\n",
       "      <td>A001</td>\n",
       "      <td>Tang Breath</td>\n",
       "      <td>45</td>\n",
       "      <td>10</td>\n",
       "      <td>Herming, pulled early</td>\n",
       "    </tr>\n",
       "    <tr>\n",
       "      <th>1</th>\n",
       "      <td>2018-01-17 23:50:29.884</td>\n",
       "      <td>B01</td>\n",
       "      <td>Super Secret Weapon</td>\n",
       "      <td>48</td>\n",
       "      <td>10</td>\n",
       "      <td>Small plant (R), herming</td>\n",
       "    </tr>\n",
       "    <tr>\n",
       "      <th>2</th>\n",
       "      <td>2018-01-23 21:16:55.810</td>\n",
       "      <td>C01</td>\n",
       "      <td>Electric Lemon G</td>\n",
       "      <td>53</td>\n",
       "      <td>7</td>\n",
       "      <td>Pulled early, nasty aphids.</td>\n",
       "    </tr>\n",
       "    <tr>\n",
       "      <th>3</th>\n",
       "      <td>2018-01-24 22:12:14.145</td>\n",
       "      <td>D01</td>\n",
       "      <td>Special Candy Land</td>\n",
       "      <td>55</td>\n",
       "      <td>7</td>\n",
       "      <td>NaN</td>\n",
       "    </tr>\n",
       "    <tr>\n",
       "      <th>4</th>\n",
       "      <td>2018-01-24 22:17:10.804</td>\n",
       "      <td>D02</td>\n",
       "      <td>NYC Diesel</td>\n",
       "      <td>55</td>\n",
       "      <td>7</td>\n",
       "      <td>NaN</td>\n",
       "    </tr>\n",
       "  </tbody>\n",
       "</table>\n",
       "</div>"
      ],
      "text/plain": [
       "                Timestamp plant_id          Strain Name  Flower Time  \\\n",
       "0 2018-01-14 21:30:19.244     A001          Tang Breath           45   \n",
       "1 2018-01-17 23:50:29.884      B01  Super Secret Weapon           48   \n",
       "2 2018-01-23 21:16:55.810      C01     Electric Lemon G           53   \n",
       "3 2018-01-24 22:12:14.145      D01   Special Candy Land           55   \n",
       "4 2018-01-24 22:17:10.804      D02           NYC Diesel           55   \n",
       "\n",
       "   Pot Size (gal)                       Notes:  \n",
       "0              10        Herming, pulled early  \n",
       "1              10     Small plant (R), herming  \n",
       "2               7  Pulled early, nasty aphids.  \n",
       "3               7                          NaN  \n",
       "4               7                          NaN  "
      ]
     },
     "execution_count": 6,
     "metadata": {},
     "output_type": "execute_result"
    }
   ],
   "source": [
    "### MERGE THE 2018 Files on The Plant ID column\n",
    "\n",
    "\n",
    "# First rename the Plant ID columns to plant_id\n",
    "\n",
    "jan_2018_response.rename(columns={'Plant ID': 'plant_id'}, inplace=True)\n",
    "may_2018_response.rename(columns={'Plant ID': 'plant_id'}, inplace=True)\n",
    "sept_2018_response.rename(columns={'Plant ID': 'plant_id'}, inplace=True)\n",
    "\n",
    "jan_2018_info.rename(columns={'PlantID': 'plant_id'}, inplace=True)\n",
    "may_2018_info.rename(columns={'PlantID': 'plant_id'}, inplace=True)\n",
    "sept_2018_info.rename(columns={'PlantID': 'plant_id'}, inplace=True)\n",
    "jan_2018_info.head()\n"
   ]
  },
  {
   "cell_type": "code",
   "execution_count": 30,
   "metadata": {},
   "outputs": [],
   "source": [
    "# Merge the 2018 files on the plant_id column\n",
    "\n",
    "jan_2018 = pd.merge(jan_2018_response, jan_2018_info, on='plant_id')\n",
    "may_2018 = pd.merge(may_2018_response, may_2018_info, on='plant_id')\n",
    "sept_2018 = pd.merge(sept_2018_response, sept_2018_info, on='plant_id')\n"
   ]
  },
  {
   "cell_type": "code",
   "execution_count": 31,
   "metadata": {},
   "outputs": [],
   "source": [
    "### Check for null values and clean if needed\n",
    "\n",
    "df_list = [jan_2018, may_2018, sept_2018, oct_2017, april_2017 ]\n",
    "df_name = []\n",
    "\n",
    "# for each in df_list:\n",
    "#     print(each.isnull().sum())\n",
    "#     print(each.shape)\n",
    "    \n"
   ]
  },
  {
   "cell_type": "code",
   "execution_count": 32,
   "metadata": {},
   "outputs": [
    {
     "data": {
      "text/plain": [
       "['jan_2018', 'may_2018', 'sept_2018', 'oct_2017', 'april_2017']"
      ]
     },
     "execution_count": 32,
     "metadata": {},
     "output_type": "execute_result"
    }
   ],
   "source": [
    "df_list_name = ['jan_2018', 'may_2018', 'sept_2018', 'oct_2017', 'april_2017']\n",
    "df_list_name "
   ]
  },
  {
   "cell_type": "code",
   "execution_count": 33,
   "metadata": {},
   "outputs": [],
   "source": [
    "## Change name in 2017 coulmn\n",
    "\n",
    "oct_2017.rename(columns={'Strain': 'Strain Name'}, inplace=True)\n",
    "april_2017.rename(columns={'Strain': 'Strain Name'}, inplace=True)"
   ]
  },
  {
   "cell_type": "code",
   "execution_count": 34,
   "metadata": {},
   "outputs": [],
   "source": [
    "### Simplify column names\n",
    "\n",
    "oct_2017.rename(columns={'Weight (g)': 'grams'}, inplace=True)\n",
    "april_2017.rename(columns={'Weight (g)': 'grams'}, inplace=True)\n",
    "jan_2018.rename(columns={'Weight (g)': 'grams'}, inplace=True)\n",
    "may_2018.rename(columns={'Weight (g)': 'grams'}, inplace=True)\n",
    "sept_2018.rename(columns={'Weight (g)': 'grams'}, inplace=True)\n"
   ]
  },
  {
   "cell_type": "code",
   "execution_count": 35,
   "metadata": {},
   "outputs": [],
   "source": [
    "### change Strain name column using a loop\n",
    "\n",
    "for each in df_list:\n",
    "    each.rename(columns={'Strain Name': 'Name'}, inplace=True)"
   ]
  },
  {
   "cell_type": "code",
   "execution_count": 36,
   "metadata": {},
   "outputs": [
    {
     "name": "stdout",
     "output_type": "stream",
     "text": [
      "Index(['Timestamp_x', 'plant_id', 'Trimmer', 'grams', 'Simple_Date',\n",
      "       'Timestamp_y', 'Name', 'Flower Time', 'Pot Size (gal)', 'Notes:'],\n",
      "      dtype='object')\n",
      "Index(['Timestamp_x', 'plant_id', 'Trimmer', 'grams', 'Simple_Date',\n",
      "       'Unnamed: 5', 'Timestamp_y', 'Name', 'Flower Time'],\n",
      "      dtype='object')\n",
      "Index(['Timestamp_x', 'plant_id', 'Trimmer', 'grams', 'SImple Date',\n",
      "       'Timestamp_y', 'Name', 'Flower Time', 'Pot Size (gal)', 'Notes:'],\n",
      "      dtype='object')\n",
      "Index(['Timestamp', 'Trimmer', 'Name', 'grams'], dtype='object')\n",
      "Index(['Timestamp', 'Name', 'Trimmer', 'grams'], dtype='object')\n"
     ]
    }
   ],
   "source": [
    "for each in df_list:\n",
    "    print(each.columns)"
   ]
  },
  {
   "cell_type": "code",
   "execution_count": 29,
   "metadata": {},
   "outputs": [
    {
     "ename": "ValueError",
     "evalue": "Can only compare identically-labeled Series objects",
     "output_type": "error",
     "traceback": [
      "\u001b[1;31m---------------------------------------------------------------------------\u001b[0m",
      "\u001b[1;31mValueError\u001b[0m                                Traceback (most recent call last)",
      "\u001b[1;32m~\\AppData\\Local\\Temp\\ipykernel_20152\\3226085229.py\u001b[0m in \u001b[0;36m<cell line: 4>\u001b[1;34m()\u001b[0m\n\u001b[0;32m      3\u001b[0m \u001b[0mall_strains\u001b[0m \u001b[1;33m=\u001b[0m \u001b[1;33m[\u001b[0m\u001b[1;33m]\u001b[0m\u001b[1;33m\u001b[0m\u001b[1;33m\u001b[0m\u001b[0m\n\u001b[0;32m      4\u001b[0m \u001b[1;32mfor\u001b[0m \u001b[0meach\u001b[0m \u001b[1;32min\u001b[0m \u001b[0mdf_list\u001b[0m\u001b[1;33m:\u001b[0m\u001b[1;33m\u001b[0m\u001b[1;33m\u001b[0m\u001b[0m\n\u001b[1;32m----> 5\u001b[1;33m     \u001b[1;32mif\u001b[0m \u001b[0meach\u001b[0m\u001b[1;33m[\u001b[0m\u001b[1;34m'Name'\u001b[0m\u001b[1;33m]\u001b[0m \u001b[1;32mnot\u001b[0m \u001b[1;32min\u001b[0m \u001b[0mall_strains\u001b[0m\u001b[1;33m:\u001b[0m\u001b[1;33m\u001b[0m\u001b[1;33m\u001b[0m\u001b[0m\n\u001b[0m\u001b[0;32m      6\u001b[0m         \u001b[0mall_strains\u001b[0m\u001b[1;33m.\u001b[0m\u001b[0mappend\u001b[0m\u001b[1;33m(\u001b[0m\u001b[0meach\u001b[0m\u001b[1;33m[\u001b[0m\u001b[1;34m'Name'\u001b[0m\u001b[1;33m]\u001b[0m\u001b[1;33m)\u001b[0m\u001b[1;33m\u001b[0m\u001b[1;33m\u001b[0m\u001b[0m\n\u001b[0;32m      7\u001b[0m \u001b[1;33m\u001b[0m\u001b[0m\n",
      "\u001b[1;32mc:\\Users\\Justin\\anaconda3\\envs\\mlenv\\lib\\site-packages\\pandas\\core\\ops\\common.py\u001b[0m in \u001b[0;36mnew_method\u001b[1;34m(self, other)\u001b[0m\n\u001b[0;32m     68\u001b[0m         \u001b[0mother\u001b[0m \u001b[1;33m=\u001b[0m \u001b[0mitem_from_zerodim\u001b[0m\u001b[1;33m(\u001b[0m\u001b[0mother\u001b[0m\u001b[1;33m)\u001b[0m\u001b[1;33m\u001b[0m\u001b[1;33m\u001b[0m\u001b[0m\n\u001b[0;32m     69\u001b[0m \u001b[1;33m\u001b[0m\u001b[0m\n\u001b[1;32m---> 70\u001b[1;33m         \u001b[1;32mreturn\u001b[0m \u001b[0mmethod\u001b[0m\u001b[1;33m(\u001b[0m\u001b[0mself\u001b[0m\u001b[1;33m,\u001b[0m \u001b[0mother\u001b[0m\u001b[1;33m)\u001b[0m\u001b[1;33m\u001b[0m\u001b[1;33m\u001b[0m\u001b[0m\n\u001b[0m\u001b[0;32m     71\u001b[0m \u001b[1;33m\u001b[0m\u001b[0m\n\u001b[0;32m     72\u001b[0m     \u001b[1;32mreturn\u001b[0m \u001b[0mnew_method\u001b[0m\u001b[1;33m\u001b[0m\u001b[1;33m\u001b[0m\u001b[0m\n",
      "\u001b[1;32mc:\\Users\\Justin\\anaconda3\\envs\\mlenv\\lib\\site-packages\\pandas\\core\\arraylike.py\u001b[0m in \u001b[0;36m__eq__\u001b[1;34m(self, other)\u001b[0m\n\u001b[0;32m     38\u001b[0m     \u001b[1;33m@\u001b[0m\u001b[0munpack_zerodim_and_defer\u001b[0m\u001b[1;33m(\u001b[0m\u001b[1;34m\"__eq__\"\u001b[0m\u001b[1;33m)\u001b[0m\u001b[1;33m\u001b[0m\u001b[1;33m\u001b[0m\u001b[0m\n\u001b[0;32m     39\u001b[0m     \u001b[1;32mdef\u001b[0m \u001b[0m__eq__\u001b[0m\u001b[1;33m(\u001b[0m\u001b[0mself\u001b[0m\u001b[1;33m,\u001b[0m \u001b[0mother\u001b[0m\u001b[1;33m)\u001b[0m\u001b[1;33m:\u001b[0m\u001b[1;33m\u001b[0m\u001b[1;33m\u001b[0m\u001b[0m\n\u001b[1;32m---> 40\u001b[1;33m         \u001b[1;32mreturn\u001b[0m \u001b[0mself\u001b[0m\u001b[1;33m.\u001b[0m\u001b[0m_cmp_method\u001b[0m\u001b[1;33m(\u001b[0m\u001b[0mother\u001b[0m\u001b[1;33m,\u001b[0m \u001b[0moperator\u001b[0m\u001b[1;33m.\u001b[0m\u001b[0meq\u001b[0m\u001b[1;33m)\u001b[0m\u001b[1;33m\u001b[0m\u001b[1;33m\u001b[0m\u001b[0m\n\u001b[0m\u001b[0;32m     41\u001b[0m \u001b[1;33m\u001b[0m\u001b[0m\n\u001b[0;32m     42\u001b[0m     \u001b[1;33m@\u001b[0m\u001b[0munpack_zerodim_and_defer\u001b[0m\u001b[1;33m(\u001b[0m\u001b[1;34m\"__ne__\"\u001b[0m\u001b[1;33m)\u001b[0m\u001b[1;33m\u001b[0m\u001b[1;33m\u001b[0m\u001b[0m\n",
      "\u001b[1;32mc:\\Users\\Justin\\anaconda3\\envs\\mlenv\\lib\\site-packages\\pandas\\core\\series.py\u001b[0m in \u001b[0;36m_cmp_method\u001b[1;34m(self, other, op)\u001b[0m\n\u001b[0;32m   5615\u001b[0m \u001b[1;33m\u001b[0m\u001b[0m\n\u001b[0;32m   5616\u001b[0m         \u001b[1;32mif\u001b[0m \u001b[0misinstance\u001b[0m\u001b[1;33m(\u001b[0m\u001b[0mother\u001b[0m\u001b[1;33m,\u001b[0m \u001b[0mSeries\u001b[0m\u001b[1;33m)\u001b[0m \u001b[1;32mand\u001b[0m \u001b[1;32mnot\u001b[0m \u001b[0mself\u001b[0m\u001b[1;33m.\u001b[0m\u001b[0m_indexed_same\u001b[0m\u001b[1;33m(\u001b[0m\u001b[0mother\u001b[0m\u001b[1;33m)\u001b[0m\u001b[1;33m:\u001b[0m\u001b[1;33m\u001b[0m\u001b[1;33m\u001b[0m\u001b[0m\n\u001b[1;32m-> 5617\u001b[1;33m             \u001b[1;32mraise\u001b[0m \u001b[0mValueError\u001b[0m\u001b[1;33m(\u001b[0m\u001b[1;34m\"Can only compare identically-labeled Series objects\"\u001b[0m\u001b[1;33m)\u001b[0m\u001b[1;33m\u001b[0m\u001b[1;33m\u001b[0m\u001b[0m\n\u001b[0m\u001b[0;32m   5618\u001b[0m \u001b[1;33m\u001b[0m\u001b[0m\n\u001b[0;32m   5619\u001b[0m         \u001b[0mlvalues\u001b[0m \u001b[1;33m=\u001b[0m \u001b[0mself\u001b[0m\u001b[1;33m.\u001b[0m\u001b[0m_values\u001b[0m\u001b[1;33m\u001b[0m\u001b[1;33m\u001b[0m\u001b[0m\n",
      "\u001b[1;31mValueError\u001b[0m: Can only compare identically-labeled Series objects"
     ]
    }
   ],
   "source": [
    "#### cREATE A lIST OF alL sTRAIN NAMES ACROSS dATA FILES\n",
    "\n",
    "all_strains = []\n",
    "for each in df_list:\n",
    "    if each['Name'] not in all_strains:\n",
    "        all_strains.append(each['Name'])\n",
    "        "
   ]
  },
  {
   "cell_type": "code",
   "execution_count": 37,
   "metadata": {},
   "outputs": [],
   "source": [
    "### Put dataframes into a single json\n",
    "\n",
    "import json\n",
    "with open('data/processed/data_load_clean.json', 'w') as f:\n",
    "    for each in df_list_name:\n",
    "        json.dump(each, f)\n",
    "        f.write('\\n')\n",
    "\n",
    "\n",
    "\n",
    "######### RETURNED THIS ERROR IN TAB\n",
    "\n",
    "# An error occurred while communicating with JSON file\n",
    "# Bad Request: The data source does not contain the expected data.\n",
    "# Error Code: 0E9A0EF5\n",
    "# The file contains invalid JSON data. Make sure the file has valid JSON data and then try again."
   ]
  },
  {
   "cell_type": "code",
   "execution_count": 38,
   "metadata": {},
   "outputs": [],
   "source": [
    "#### BORING WAY to output csvs\n",
    "## want to use the clean processed csvs to do visualizations and merges on strain type\n",
    "\n",
    "\n",
    "\n",
    "jan_2018.to_csv('data/processed/jan_2018.csv')\n",
    "may_2018.to_csv('data/processed/may_2018.csv')\n",
    "sept_2018.to_csv('data/processed/sept_2018.csv')\n",
    "oct_2017.to_csv('data/processed/oct_2017.csv')\n",
    "april_2017.to_csv('data/processed/april_2017.csv')\n"
   ]
  },
  {
   "cell_type": "code",
   "execution_count": 39,
   "metadata": {},
   "outputs": [],
   "source": [
    "# DIDNT WORK SO I DID IT THE BORING WAY ABOVE\n",
    "\n",
    "# # output csvs for viewing notebook\n",
    "\n",
    "# for each in df_list:\n",
    "#     each.to_csv(DATA_DIR + df_list_name[df_list.index(each)] + '_test.csv')"
   ]
  },
  {
   "cell_type": "code",
   "execution_count": 15,
   "metadata": {},
   "outputs": [
    {
     "name": "stdout",
     "output_type": "stream",
     "text": [
      "The total weight of the plants is 118.43232735015569 ounces or 7.4020204593847305 pounds\n"
     ]
    }
   ],
   "source": [
    "### October 2017\n",
    "\n",
    "oct_2017.head()\n",
    "oct_2017.rename(columns={'Strain': 'Strain Name'}, inplace=True)\n",
    "oct_2017.head()\n",
    "\n",
    "oct_2017_by_strain = pd.pivot_table(oct_2017, \n",
    "                                    values='Weight (g)',\n",
    "                                    index=['Strain Name'],\n",
    "                                    columns=['Trimmer'],\n",
    "                                    aggfunc=np.sum)\n",
    "\n",
    "oct_2017_by_strain['Total Wt (g)'] = oct_2017_by_strain.sum(axis=1)\n",
    "oct_2017_by_strain['Total Wt (oz)'] = oct_2017_by_strain['Total Wt (g)'] / 28.3495231\n",
    "oct_2017_by_strain.head()\n",
    "\n",
    "print(f'The total weight of the plants is {oct_2017_by_strain[\"Total Wt (oz)\"].sum()} ounces or {oct_2017_by_strain[\"Total Wt (oz)\"].sum()/16} pounds')\n",
    "\n"
   ]
  },
  {
   "cell_type": "code",
   "execution_count": 16,
   "metadata": {},
   "outputs": [
    {
     "name": "stdout",
     "output_type": "stream",
     "text": [
      "The total weight of the plants is 127.10972199740462 ounces or 7.944357624837789 pounds\n"
     ]
    }
   ],
   "source": [
    "### April 2017\n",
    "\n",
    "april_2017.head()\n",
    "\n",
    "april_2017.rename(columns={'Strain':'Strain Name'}, inplace=True)\n",
    "\n",
    "april_2017_by_strain = pd.pivot_table(april_2017,\n",
    "                                        values='Weight (g)',\n",
    "                                        index=['Strain Name'],\n",
    "                                        columns=['Trimmer'],\n",
    "                                        aggfunc=np.sum)\n",
    "\n",
    "april_2017_by_strain['Total Wt (g)'] = april_2017_by_strain.sum(axis=1)\n",
    "april_2017_by_strain['Total Wt (oz)'] = april_2017_by_strain['Total Wt (g)'] / 28.3495231\n",
    "april_2017_by_strain.head()\n",
    "\n",
    "\n",
    "print(f'The total weight of the plants is {april_2017_by_strain[\"Total Wt (oz)\"].sum()} ounces or {april_2017_by_strain[\"Total Wt (oz)\"].sum()/16} pounds')"
   ]
  },
  {
   "cell_type": "code",
   "execution_count": 17,
   "metadata": {},
   "outputs": [
    {
     "name": "stdout",
     "output_type": "stream",
     "text": [
      "The total weight of the plants is 124.56646933859709 ounces or 7.785404333662318 pounds\n"
     ]
    }
   ],
   "source": [
    "#### MAY 2018\n",
    "\n",
    "may_2018_by_strain = pd.pivot_table(may_2018, values='Weight (g)',\n",
    "                                 index=['Strain Name'], \n",
    "                                 columns=['Trimmer'], aggfunc=np.sum)\n",
    "\n",
    "may_2018_by_strain['Total Wt (g)'] = may_2018_by_strain.sum(axis=1)\n",
    "may_2018_by_strain['Total Wt (oz)'] = may_2018_by_strain['Total Wt (g)'] / 28.3495231\n",
    "may_2018_by_strain.head()\n",
    "\n",
    "\n",
    "print(f'The total weight of the plants is {may_2018_by_strain[\"Total Wt (oz)\"].sum()} ounces or {may_2018_by_strain[\"Total Wt (oz)\"].sum()/16} pounds')"
   ]
  },
  {
   "cell_type": "code",
   "execution_count": 18,
   "metadata": {},
   "outputs": [
    {
     "name": "stdout",
     "output_type": "stream",
     "text": [
      "The total weight of the plants is 370.84574449155383 ounces or 23.177859030722114 pounds\n"
     ]
    }
   ],
   "source": [
    "#### September 2018\n",
    "\n",
    "sept_2018_by_strain = pd.pivot_table(sept_2018, values='Weight (g)',\n",
    "                                    index=['Strain Name'],\n",
    "                                    columns=['Trimmer'], aggfunc=np.sum)\n",
    "\n",
    "sept_2018_by_strain['Total Wt (g)'] = sept_2018_by_strain.sum(axis=1)\n",
    "sept_2018_by_strain['Total Wt (oz)'] = sept_2018_by_strain['Total Wt (g)'] / 28.3495231\n",
    "sept_2018_by_strain.head()\n",
    "\n",
    "print(f'The total weight of the plants is {sept_2018_by_strain[\"Total Wt (oz)\"].sum()} ounces or {sept_2018_by_strain[\"Total Wt (oz)\"].sum()/16} pounds')"
   ]
  },
  {
   "cell_type": "code",
   "execution_count": 73,
   "metadata": {},
   "outputs": [
    {
     "name": "stdout",
     "output_type": "stream",
     "text": [
      "The total weight of the plants is 326.8696960902316 ounces or 20.429356005639477 pounds\n"
     ]
    }
   ],
   "source": [
    "#### Example of Aggrigating the data\n",
    "\n",
    "#### Create Pivot Tables for the 2018 files\n",
    "\n",
    "jan_2018_by_strain = pd.pivot_table(jan_2018, \n",
    "    values='Weight (g)', \n",
    "    index='Strain Name', \n",
    "    columns='Trimmer', \n",
    "    aggfunc=np.sum)\n",
    "\n",
    "# Total The Weight by Strain Name\n",
    "jan_2018_by_strain['Total Wt'] = jan_2018_by_strain.sum(axis=1)\n",
    "\n",
    "# Create a new column for the total weight in ounces by strain name\n",
    "\n",
    "jan_2018_by_strain['Total Wt (oz)'] = jan_2018_by_strain['Total Wt'] / 28.3495231\n",
    "\n",
    "jan_2018_by_strain\n",
    "\n",
    "print(f'The total weight of the plants is {jan_2018_by_strain[\"Total Wt (oz)\"].sum()} ounces or {jan_2018_by_strain[\"Total Wt (oz)\"].sum()/16} pounds')"
   ]
  },
  {
   "cell_type": "code",
   "execution_count": 82,
   "metadata": {},
   "outputs": [
    {
     "name": "stdout",
     "output_type": "stream",
     "text": [
      "Smitty trimmed 447.38 ounces or 27.96 pounds\n"
     ]
    }
   ],
   "source": [
    "#### Total Amount Per Trimmer\n",
    "\n",
    "### All time Smitty\n",
    "\n",
    "s_total = s_jan_2018+s_may_2018+s_sept_2018+s_oct_2017+s_april_2017\n",
    "\n",
    "s_total\n",
    "\n",
    "s_total_oz = s_total / 28.3495231\n",
    "\n",
    "s_total_pounds = s_total_oz / 16\n",
    "\n",
    "print(f'Smitty trimmed {round(s_total_oz,2)} ounces or {round(s_total_pounds, 2)} pounds')"
   ]
  },
  {
   "cell_type": "code",
   "execution_count": null,
   "metadata": {},
   "outputs": [],
   "source": [
    "\n"
   ]
  },
  {
   "cell_type": "code",
   "execution_count": 109,
   "metadata": {},
   "outputs": [
    {
     "data": {
      "text/plain": [
       "array(['Smit', 'TPain', 'House', 'Gmoney', 'Bri', 'Brie', 'Hunter', 'JJ',\n",
       "       'Campo', 'Bob', 'Smitty', 'Kev', 'T Pain', 'HOUSE', 'Grant',\n",
       "       'Gaby', 'MRSD', 'Dave', 'Quinn'], dtype=object)"
      ]
     },
     "execution_count": 109,
     "metadata": {},
     "output_type": "execute_result"
    }
   ],
   "source": []
  },
  {
   "cell_type": "code",
   "execution_count": null,
   "metadata": {},
   "outputs": [],
   "source": [
    "#### Write a function to go through and find the total weight trimmed by each 'Trimmer' across the 5 dataframes\n",
    "\n",
    "# will need to write some loops\n",
    "\n"
   ]
  },
  {
   "cell_type": "code",
   "execution_count": 96,
   "metadata": {},
   "outputs": [
    {
     "ename": "NameError",
     "evalue": "name 'Trimmer' is not defined",
     "output_type": "error",
     "traceback": [
      "\u001b[1;31m---------------------------------------------------------------------------\u001b[0m",
      "\u001b[1;31mNameError\u001b[0m                                 Traceback (most recent call last)",
      "\u001b[1;32m~\\AppData\\Local\\Temp\\ipykernel_3472\\1227806519.py\u001b[0m in \u001b[0;36m<cell line: 1>\u001b[1;34m()\u001b[0m\n\u001b[0;32m      1\u001b[0m \u001b[1;32mfor\u001b[0m \u001b[0mtrimmer\u001b[0m \u001b[1;32min\u001b[0m \u001b[0mTRIMMER_LIST\u001b[0m\u001b[1;33m:\u001b[0m\u001b[1;33m\u001b[0m\u001b[1;33m\u001b[0m\u001b[0m\n\u001b[1;32m----> 2\u001b[1;33m     \u001b[0mprint\u001b[0m\u001b[1;33m(\u001b[0m\u001b[1;34mf'{each} trimmed {round(merged_df[Trimmer]/28.3495231, 2)} ounces or {round(merged_df[Trimmer]/16, 2)} pounds'\u001b[0m\u001b[1;33m)\u001b[0m\u001b[1;33m\u001b[0m\u001b[1;33m\u001b[0m\u001b[0m\n\u001b[0m",
      "\u001b[1;31mNameError\u001b[0m: name 'Trimmer' is not defined"
     ]
    }
   ],
   "source": [
    "for trimmer in TRIMMER_LIST:\n",
    "    print(f'{each} trimmed {round(merged_df[Trimmer]/28.3495231, 2)} ounces or {round(merged_df[Trimmer]/16, 2)} pounds')"
   ]
  }
 ],
 "metadata": {
  "kernelspec": {
   "display_name": "Python 3.9.13 ('mlenv')",
   "language": "python",
   "name": "python3"
  },
  "language_info": {
   "codemirror_mode": {
    "name": "ipython",
    "version": 3
   },
   "file_extension": ".py",
   "mimetype": "text/x-python",
   "name": "python",
   "nbconvert_exporter": "python",
   "pygments_lexer": "ipython3",
   "version": "3.9.13"
  },
  "orig_nbformat": 4,
  "vscode": {
   "interpreter": {
    "hash": "16da5ebd74780a3e742c70b3fe64a587568cb88d914c1ab81d04094053f67c4e"
   }
  }
 },
 "nbformat": 4,
 "nbformat_minor": 2
}
